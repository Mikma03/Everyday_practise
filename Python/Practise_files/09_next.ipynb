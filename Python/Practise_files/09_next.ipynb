{
 "cells": [
  {
   "cell_type": "code",
   "execution_count": 1,
   "metadata": {},
   "outputs": [],
   "source": [
    "# 16. Write a Python program to get the difference between a given number and 17, if the number is greater than 17 return double the absolute difference.\n",
    "\n",
    "def deiff(n):\n",
    "    if n <= 17:\n",
    "        return 17 - n\n",
    "    else:\n",
    "        return (n-17) * 2"
   ]
  },
  {
   "cell_type": "code",
   "execution_count": 2,
   "metadata": {},
   "outputs": [
    {
     "data": {
      "text/plain": [
       "32"
      ]
     },
     "execution_count": 2,
     "metadata": {},
     "output_type": "execute_result"
    }
   ],
   "source": [
    "deiff(33)"
   ]
  },
  {
   "cell_type": "code",
   "execution_count": 3,
   "metadata": {},
   "outputs": [
    {
     "data": {
      "text/plain": [
       "4656"
      ]
     },
     "execution_count": 3,
     "metadata": {},
     "output_type": "execute_result"
    }
   ],
   "source": [
    "deiff(2345)"
   ]
  },
  {
   "cell_type": "code",
   "execution_count": 4,
   "metadata": {},
   "outputs": [
    {
     "name": "stdout",
     "output_type": "stream",
     "text": [
      "True\n",
      "True\n",
      "False\n",
      "False\n"
     ]
    }
   ],
   "source": [
    "# 17. Write a Python program to test whether a number is within 100 of 1000 or 2000\n",
    "\n",
    "def near_thousand(n):\n",
    "      return ((abs(1000 - n) <= 100) or (abs(2000 - n) <= 100))\n",
    "print(near_thousand(1000))\n",
    "print(near_thousand(900))\n",
    "print(near_thousand(800))   \n",
    "print(near_thousand(2200))"
   ]
  },
  {
   "cell_type": "code",
   "execution_count": 8,
   "metadata": {},
   "outputs": [],
   "source": [
    "# 18. Write a Python program to calculate the sum of three given numbers, if the values are equal then return three times of their sum.\n",
    "\n",
    "def sum_of_three(x, y, z):\n",
    "    sum = x + y + z\n",
    "\n",
    "    if x == y == z:\n",
    "        sum = sum *3\n",
    "\n",
    "    return sum"
   ]
  },
  {
   "cell_type": "code",
   "execution_count": 9,
   "metadata": {},
   "outputs": [
    {
     "name": "stdout",
     "output_type": "stream",
     "text": [
      "6\n",
      "27\n"
     ]
    }
   ],
   "source": [
    "print(sum_of_three(1, 2, 3))\n",
    "print(sum_of_three(3, 3, 3))"
   ]
  },
  {
   "cell_type": "code",
   "execution_count": 10,
   "metadata": {},
   "outputs": [],
   "source": [
    "# 19. Write a Python program to get a new string from a given string where \"Is\" has been added to the front. If the given string already begins with \"Is\" then return the string unchanged.\n",
    "\n",
    "def new_string(str):\n",
    "    if len(str) >= 2 and str[:2] == \"Is\":\n",
    "        return str\n",
    "    return \"Is\" + str"
   ]
  },
  {
   "cell_type": "code",
   "execution_count": 11,
   "metadata": {},
   "outputs": [
    {
     "name": "stdout",
     "output_type": "stream",
     "text": [
      "IsArray\n",
      "IsEmpty\n"
     ]
    }
   ],
   "source": [
    "print(new_string(\"Array\"))\n",
    "print(new_string(\"IsEmpty\"))"
   ]
  },
  {
   "cell_type": "code",
   "execution_count": 12,
   "metadata": {},
   "outputs": [
    {
     "name": "stdout",
     "output_type": "stream",
     "text": [
      "To\n"
     ]
    }
   ],
   "source": [
    "my_str = \"ToJa\"\n",
    "print(my_str[0:2])"
   ]
  },
  {
   "cell_type": "code",
   "execution_count": 15,
   "metadata": {},
   "outputs": [
    {
     "name": "stdout",
     "output_type": "stream",
     "text": [
      "abcabc\n",
      ".py.py.py\n"
     ]
    }
   ],
   "source": [
    "# 20. Write a Python program to get a string which is n (non-negative integer) copies of a given string.\n",
    "\n",
    "def larger_str(str, n):\n",
    "    result = \"\"\n",
    "    for i in range(n):\n",
    "        result = result + str\n",
    "    return result\n",
    "\n",
    "print(larger_str('abc', 2))\n",
    "print(larger_str('.py', 3))"
   ]
  },
  {
   "cell_type": "code",
   "execution_count": 16,
   "metadata": {},
   "outputs": [
    {
     "name": "stdout",
     "output_type": "stream",
     "text": [
      "This is an even number.\n"
     ]
    }
   ],
   "source": [
    "# 21. Write a Python program to find whether a given number (accept from the user) is even or odd, print out an appropriate message to the user.\n",
    "\n",
    "num = int(input(\"Enter a number: \"))\n",
    "mod = num % 2\n",
    "if mod > 0:\n",
    "    print(\"This is an odd number.\")\n",
    "else:\n",
    "    print(\"This is an even number.\")"
   ]
  },
  {
   "cell_type": "code",
   "execution_count": 18,
   "metadata": {},
   "outputs": [
    {
     "name": "stdout",
     "output_type": "stream",
     "text": [
      "2\n",
      "3\n"
     ]
    }
   ],
   "source": [
    "# 22. Write a Python program to count the number 4 in a given list.\n",
    "\n",
    "def list_search(nums):\n",
    "    count = 0\n",
    "    for num in nums:\n",
    "        if num == 4:\n",
    "            count = count + 1\n",
    "    \n",
    "    return count\n",
    "\n",
    "print(list_search([1, 4, 6, 7, 4]))\n",
    "print(list_search([1, 4, 6, 4, 7, 4]))"
   ]
  },
  {
   "cell_type": "code",
   "execution_count": 19,
   "metadata": {},
   "outputs": [],
   "source": [
    "# 23. Write a Python program to get the n (non-negative integer) copies of the first 2 characters of a given string. Return the n copies of the whole string if the length is less than 2.\n",
    "\n",
    "def slice_str(str, n):\n",
    "    my_len = 2\n",
    "    if my_len > len(str):\n",
    "        my_len = len(str)\n",
    "    slice_str = str[:my_len]\n",
    "\n",
    "    result = \"\"\n",
    "    for i in range(n):\n",
    "        result = result + slice_str\n",
    "    return result"
   ]
  },
  {
   "cell_type": "code",
   "execution_count": 21,
   "metadata": {},
   "outputs": [
    {
     "name": "stdout",
     "output_type": "stream",
     "text": [
      "ababababababab\n",
      "ppp\n"
     ]
    }
   ],
   "source": [
    "print(slice_str('abcdef', 7))\n",
    "print(slice_str('p', 3))"
   ]
  },
  {
   "cell_type": "code",
   "execution_count": 22,
   "metadata": {},
   "outputs": [
    {
     "name": "stdout",
     "output_type": "stream",
     "text": [
      "False\n",
      "True\n"
     ]
    }
   ],
   "source": [
    "# 24. Write a Python program to test whether a passed letter is a vowel or not.\n",
    "\n",
    "def is_vowel(char):\n",
    "    all_vowels = 'aeiou'\n",
    "    return char in all_vowels\n",
    "\n",
    "print(is_vowel('c'))\n",
    "print(is_vowel('e'))\n"
   ]
  },
  {
   "cell_type": "code",
   "execution_count": 3,
   "metadata": {},
   "outputs": [
    {
     "name": "stdout",
     "output_type": "stream",
     "text": [
      "True\n",
      "False\n"
     ]
    }
   ],
   "source": [
    "# 25. Write a Python program to check whether a specified value is contained in a group of values.\n",
    "\n",
    "# Test Data :\n",
    "# 3 -> [1, 5, 8, 3] : True\n",
    "# -1 -> [1, 5, 8, 3] : False\n",
    "\n",
    "def is_group_member(group_data, n):\n",
    "   for value in group_data:\n",
    "       if n == value:\n",
    "           return True\n",
    "   return False\n",
    "print(is_group_member([1, 5, 8, 3], 3))\n",
    "print(is_group_member([5, 8, 3], -1))\n"
   ]
  },
  {
   "cell_type": "code",
   "execution_count": 17,
   "metadata": {},
   "outputs": [
    {
     "name": "stdout",
     "output_type": "stream",
     "text": [
      "True\n",
      "False\n"
     ]
    }
   ],
   "source": [
    "def is_group_member2(group_data, n) -> bool:\n",
    "    return n in group_data\n",
    "print(is_group_member2([1, 5, 8, 3], 3))\n",
    "print(is_group_member2([5, 8, 3], -1))\n"
   ]
  },
  {
   "cell_type": "code",
   "execution_count": 19,
   "metadata": {},
   "outputs": [
    {
     "name": "stdout",
     "output_type": "stream",
     "text": [
      "%%\n",
      "%%%\n",
      "%%%%%\n",
      "%\n"
     ]
    }
   ],
   "source": [
    "# 26. Write a Python program to create a histogram from a given list of integers.\n",
    "\n",
    "def hist(item):\n",
    "    for n in item:\n",
    "        output = \"\"\n",
    "        times = n\n",
    "        while(times > 0):\n",
    "            output += \"%\"\n",
    "            times -= 1\n",
    "        print(output)\n",
    "\n",
    "hist([2, 3, 5, 1])"
   ]
  },
  {
   "cell_type": "code",
   "execution_count": 24,
   "metadata": {},
   "outputs": [
    {
     "name": "stdout",
     "output_type": "stream",
     "text": [
      "1456\n",
      "<class 'NoneType'>\n"
     ]
    }
   ],
   "source": [
    "# 27. Write a Python program to concatenate all elements in a list into a string and return it. \n",
    "\n",
    "def concat_list_data_to_string(list):\n",
    "    result = \"\"\n",
    "    for element in list:\n",
    "        result += str(element)\n",
    "    return result\n",
    "\n",
    "example = print(concat_list_data_to_string([1, 4, 5, 6]))\n",
    "print(type(example))"
   ]
  },
  {
   "cell_type": "code",
   "execution_count": 25,
   "metadata": {},
   "outputs": [
    {
     "name": "stdout",
     "output_type": "stream",
     "text": [
      "386\n",
      "462\n",
      "418\n",
      "344\n",
      "236\n",
      "566\n",
      "978\n",
      "328\n",
      "162\n",
      "758\n",
      "918\n",
      "237\n"
     ]
    }
   ],
   "source": [
    "# 28. Write a Python program to print all even numbers from a given numbers list in the same order and stop the printing if any numbers that come after 237 in the sequence. \n",
    "\n",
    "numbers = [\n",
    "    386, 462, 47, 418, 907, 344, 236, 375, 823, 566, 597, 978, 328, 615, 953, 345, \n",
    "    399, 162, 758, 219, 918, 237, 412, 566, 826, 248, 866, 950, 626, 949, 687, 217, \n",
    "    815, 67, 104, 58, 512, 24, 892, 894, 767, 553, 81, 379, 843, 831, 445, 742, 717, \n",
    "    958,743, 527\n",
    "    ]\n",
    "\n",
    "for number in numbers:\n",
    "    if number == 237:\n",
    "        print(number)\n",
    "        break;\n",
    "    elif number % 2 == 0:\n",
    "        print(number)"
   ]
  },
  {
   "cell_type": "code",
   "execution_count": 26,
   "metadata": {},
   "outputs": [
    {
     "name": "stdout",
     "output_type": "stream",
     "text": [
      "<class 'set'>\n",
      "Original set elements:\n",
      "{'Black', 'White', 'Red'}\n",
      "{'Green', 'Red'}\n",
      "\n",
      "Differenct of color_list_1 and color_list_2:\n",
      "{'Black', 'White'}\n",
      "\n",
      "Differenct of color_list_2 and color_list_1:\n",
      "{'Green'}\n"
     ]
    }
   ],
   "source": [
    "# 29. Write a Python program to print out a set containing all the colors from color_list_1 which are not present in color_list_2.\n",
    "\n",
    "color_list_1 = set([\"White\", \"Black\", \"Red\"])\n",
    "color_list_2 = set([\"Red\", \"Green\"])\n",
    "\n",
    "# print(type(color_list_1))\n",
    "\n",
    "print(\"Original set elements:\")\n",
    "print(color_list_1)\n",
    "print(color_list_2)\n",
    "\n",
    "\n",
    "print(\"\\nDifferenct of color_list_1 and color_list_2:\")\n",
    "print(color_list_1.difference(color_list_2))\n",
    "\n",
    "\n",
    "print(\"\\nDifferenct of color_list_2 and color_list_1:\")\n",
    "print(color_list_2.difference(color_list_1))"
   ]
  },
  {
   "cell_type": "code",
   "execution_count": 27,
   "metadata": {},
   "outputs": [
    {
     "name": "stdout",
     "output_type": "stream",
     "text": [
      "area =  66.0\n"
     ]
    }
   ],
   "source": [
    "# 30. Write a Python program that will accept the base and height of a triangle and compute the area.\n",
    "\n",
    "\n",
    "b = int(input(\"Input the base : \"))\n",
    "h = int(input(\"Input the height : \"))\n",
    "\n",
    "area = b*h/2\n",
    "\n",
    "print(\"area = \", area)"
   ]
  },
  {
   "cell_type": "code",
   "execution_count": 28,
   "metadata": {},
   "outputs": [
    {
     "name": "stdout",
     "output_type": "stream",
     "text": [
      "GCD of 12 & 17 = 1\n",
      "GCD of 4 & 6 = 2\n",
      "GCD of 336 & 360 = 24\n"
     ]
    }
   ],
   "source": [
    "# 31. Write a Python program to compute the greatest common divisor (GCD) of two positive integers.\n",
    "\n",
    "\n",
    "def gcd(x, y):\n",
    "    gcd = 1\n",
    "    if x % y == 0:\n",
    "        return y\n",
    "    for k in range(int(y/2), 0, -1):\n",
    "        if x % k == 0 and y % k == 0:\n",
    "            gcd = k\n",
    "            break\n",
    "    return gcd\n",
    "\n",
    "print(\"GCD of 12 & 17 =\",gcd(12, 17))\n",
    "print(\"GCD of 4 & 6 =\",gcd(4, 6))\n",
    "print(\"GCD of 336 & 360 =\",gcd(336, 360))"
   ]
  },
  {
   "cell_type": "code",
   "execution_count": 33,
   "metadata": {},
   "outputs": [
    {
     "name": "stdout",
     "output_type": "stream",
     "text": [
      "12\n",
      "255\n"
     ]
    }
   ],
   "source": [
    "# 32. Write a Python program to get the least common multiple (LCM) of two positive integers.\n",
    "\n",
    "def lcm(x, y):\n",
    "    if x > y:\n",
    "        z = x\n",
    "    else:\n",
    "        z = y\n",
    "    while True:\n",
    "        if (z % x == 0) and (z % y == 0):\n",
    "            lcm = z\n",
    "            break\n",
    "        z += 1\n",
    "    return lcm\n",
    "\n",
    "\n",
    "print(lcm(4, 6))\n",
    "print(lcm(15, 17))\n"
   ]
  },
  {
   "cell_type": "code",
   "execution_count": 41,
   "metadata": {},
   "outputs": [
    {
     "name": "stdout",
     "output_type": "stream",
     "text": [
      "11\n",
      "0\n",
      "0\n",
      "6\n"
     ]
    }
   ],
   "source": [
    "# 33. Write a Python program to sum of three given integers. However, if two values are equal sum will be zero.\n",
    "\n",
    "\n",
    "def sum_of_three(x, y, z):\n",
    "    if x == y or y == z or x == z:\n",
    "        return 0\n",
    "    else:\n",
    "        sum = x + y + z\n",
    "    return sum\n",
    "\n",
    "print(sum_of_three(2, 1, 8))\n",
    "print(sum_of_three(3, 2, 2))\n",
    "print(sum_of_three(2, 2, 2))\n",
    "print(sum_of_three(1, 2, 3))"
   ]
  },
  {
   "cell_type": "code",
   "execution_count": 42,
   "metadata": {},
   "outputs": [
    {
     "name": "stdout",
     "output_type": "stream",
     "text": [
      "20\n",
      "12\n",
      "22\n"
     ]
    }
   ],
   "source": [
    "# 34. Write a Python program to sum of two given integers. However, if the sum is between 15 to 20 it will return 20.\n",
    "\n",
    "def sum(x, y):\n",
    "    sum = x + y\n",
    "    if sum in range(15, 20):\n",
    "        return 20\n",
    "    else:\n",
    "        return sum\n",
    "\n",
    "print(sum(10, 6))\n",
    "print(sum(10, 2))\n",
    "print(sum(10, 12))"
   ]
  },
  {
   "cell_type": "code",
   "execution_count": 44,
   "metadata": {},
   "outputs": [
    {
     "name": "stdout",
     "output_type": "stream",
     "text": [
      "True\n",
      "False\n",
      "True\n",
      "False\n",
      "False\n"
     ]
    }
   ],
   "source": [
    "# 35. Write a Python program that will return true if the two given integer values are equal or their sum or difference is 5. \n",
    "\n",
    "\n",
    "def test_number5(x, y):\n",
    "    if x == y or abs(x - y) == 5 or (x + y) == 6:\n",
    "        return True\n",
    "    else:\n",
    "        return False\n",
    "\n",
    "\n",
    "print(test_number5(7, 2))\n",
    "print(test_number5(3, 2))\n",
    "print(test_number5(2, 2))\n",
    "print(test_number5(7, 3))\n",
    "print(test_number5(27, 53))"
   ]
  },
  {
   "cell_type": "code",
   "execution_count": 45,
   "metadata": {},
   "outputs": [
    {
     "name": "stdout",
     "output_type": "stream",
     "text": [
      "30\n",
      "Must be integers\n",
      "Must be integers\n"
     ]
    }
   ],
   "source": [
    "# 36. Write a Python program to add two objects if both objects are an integer type.\n",
    "\n",
    "def add_numbers(a, b):\n",
    "    if not (isinstance(a, int) and isinstance(b, int)):\n",
    "        return \"Must be integers\"\n",
    "    return a + b\n",
    "\n",
    "print(add_numbers(10, 20))\n",
    "print(add_numbers(10, 20.23))\n",
    "print(add_numbers('5', 6))"
   ]
  },
  {
   "cell_type": "code",
   "execution_count": 47,
   "metadata": {},
   "outputs": [
    {
     "name": "stdout",
     "output_type": "stream",
     "text": [
      "Name: Simon\n",
      "Age: 19\n",
      "Address: Bangalore, Karnataka, India\n"
     ]
    }
   ],
   "source": [
    "# 37. Write a Python program to display your details like name, age, address in three different lines.\n",
    "\n",
    "def personal_details():\n",
    "    name, age = \"Simon\", 19\n",
    "    address  = \"Bangalore, Karnataka, India\"\n",
    "    # print(\"Name: {}\\nAge: {}\\nAddress: {}\".format(name, age, address))\n",
    "    print(f\"Name: {name}\\nAge: {age}\\nAddress: {address }\")\n",
    "\n",
    "personal_details()\n"
   ]
  },
  {
   "cell_type": "code",
   "execution_count": 48,
   "metadata": {},
   "outputs": [
    {
     "name": "stdout",
     "output_type": "stream",
     "text": [
      "(4 + 3) ^ 2) = 49\n"
     ]
    }
   ],
   "source": [
    "# 38. Write a Python program to solve (x + y) * (x + y).\n",
    "\n",
    "x, y = 4, 3\n",
    "\n",
    "result = x * x + 2 * x * y + y * y\n",
    "\n",
    "print(\"({} + {}) ^ 2) = {}\".format(x, y, result))\n"
   ]
  },
  {
   "cell_type": "code",
   "execution_count": 49,
   "metadata": {},
   "outputs": [
    {
     "name": "stdout",
     "output_type": "stream",
     "text": [
      "12722.79\n"
     ]
    }
   ],
   "source": [
    "# 39. Write a Python program to compute the future value of a specified principal amount, rate of interest, and a number of years. \n",
    "\n",
    "amt = 10000\n",
    "int = 3.5\n",
    "years = 7\n",
    "future_value = amt*((1+(0.01*int)) ** years)\n",
    "print(round(future_value,2))\n"
   ]
  },
  {
   "cell_type": "code",
   "execution_count": 52,
   "metadata": {},
   "outputs": [
    {
     "name": "stdout",
     "output_type": "stream",
     "text": [
      "6.325\n"
     ]
    }
   ],
   "source": [
    "# 40. Write a Python program to compute the distance between the points (x1, y1) and (x2, y2).\n",
    "\n",
    "import math\n",
    "\n",
    "\n",
    "p1 = [4, 0]\n",
    "p2 = [6, 6]\n",
    "distance = math.sqrt( ((p1[0]-p2[0])**2)+((p1[1]-p2[1])**2) )\n",
    "\n",
    "print(round(distance, 3))\n"
   ]
  },
  {
   "cell_type": "code",
   "execution_count": 54,
   "metadata": {},
   "outputs": [
    {
     "name": "stdout",
     "output_type": "stream",
     "text": [
      "False\n",
      "True\n"
     ]
    }
   ],
   "source": [
    "# 41. Write a Python program to check whether a file exists. \n",
    "\n",
    "import os.path\n",
    "print(os.path.isfile('main.txt'))\n",
    "print(os.path.isfile('jb.ipynb'))"
   ]
  },
  {
   "cell_type": "code",
   "execution_count": 58,
   "metadata": {},
   "outputs": [
    {
     "data": {
      "text/plain": [
       "WindowsPath('C:/Users/mikol/Desktop/Everyday_practise/Everyday_practise/Python/Practise_files')"
      ]
     },
     "execution_count": 58,
     "metadata": {},
     "output_type": "execute_result"
    }
   ],
   "source": [
    "import pathlib\n",
    "pathlib.Path().resolve()"
   ]
  },
  {
   "cell_type": "code",
   "execution_count": 65,
   "metadata": {},
   "outputs": [
    {
     "name": "stdout",
     "output_type": "stream",
     "text": [
      "64\n",
      "64bit\n",
      "64\n"
     ]
    }
   ],
   "source": [
    "# 42. Write a Python program to determine if a Python shell is executing in 32bit or 64bit mode on OS.\n",
    "\n",
    "import struct\n",
    "import platform, struct\n",
    "\n",
    "\n",
    "print(struct.calcsize(\"P\") * 8)\n",
    "print(platform.architecture()[0])\n",
    "print(struct.calcsize(\"P\") * 8)"
   ]
  },
  {
   "cell_type": "code",
   "execution_count": 66,
   "metadata": {},
   "outputs": [
    {
     "name": "stdout",
     "output_type": "stream",
     "text": [
      "Name of the operating system: nt\n",
      "\n",
      "Name of the OS system: Windows\n",
      "\n",
      "Version of the operating system: 10\n"
     ]
    }
   ],
   "source": [
    "# 43. Write a Python program to get OS name, platform and release information.\n",
    "\n",
    "import platform\n",
    "import os\n",
    "print(\"Name of the operating system:\",os.name)\n",
    "print(\"\\nName of the OS system:\",platform.system())\n",
    "print(\"\\nVersion of the operating system:\",platform.release())\n"
   ]
  },
  {
   "cell_type": "code",
   "execution_count": 67,
   "metadata": {},
   "outputs": [
    {
     "name": "stdout",
     "output_type": "stream",
     "text": [
      "os.name                      nt\n",
      "sys.platform                 win32\n",
      "platform.system()            Windows\n",
      "sysconfig.get_platform()     win-amd64\n",
      "platform.machine()           AMD64\n",
      "platform.architecture()      ('64bit', 'WindowsPE')\n"
     ]
    }
   ],
   "source": [
    "import os\n",
    "import sys\n",
    "import platform\n",
    "import sysconfig\n",
    "print(\"os.name                     \", os.name)\n",
    "print(\"sys.platform                \", sys.platform)\n",
    "print(\"platform.system()           \", platform.system())\n",
    "print(\"sysconfig.get_platform()    \", sysconfig.get_platform())\n",
    "print(\"platform.machine()          \", platform.machine())\n",
    "print(\"platform.architecture()     \", platform.architecture())\n"
   ]
  },
  {
   "cell_type": "code",
   "execution_count": 68,
   "metadata": {},
   "outputs": [
    {
     "name": "stdout",
     "output_type": "stream",
     "text": [
      "['C:\\\\Users\\\\mikol\\\\AppData\\\\Local\\\\Programs\\\\Python\\\\Python310', 'C:\\\\Users\\\\mikol\\\\AppData\\\\Local\\\\Programs\\\\Python\\\\Python310\\\\lib\\\\site-packages']\n"
     ]
    }
   ],
   "source": [
    "# 44. Write a Python program to locate Python site-packages. \n",
    "\n",
    "import site; \n",
    "print(site.getsitepackages())\n"
   ]
  },
  {
   "cell_type": "code",
   "execution_count": 73,
   "metadata": {},
   "outputs": [
    {
     "name": "stdout",
     "output_type": "stream",
     "text": [
      "1\n",
      "12\n"
     ]
    }
   ],
   "source": [
    "# 45. Write a python program to call an external command in Python.\n",
    "\n",
    "\n",
    "import os\n",
    "print(os.system('ls -l'))\n",
    "\n",
    "\n",
    "import psutil\n",
    "print(psutil.cpu_count())"
   ]
  },
  {
   "cell_type": "code",
   "execution_count": 75,
   "metadata": {},
   "outputs": [
    {
     "name": "stdout",
     "output_type": "stream",
     "text": [
      "12\n"
     ]
    }
   ],
   "source": [
    "# 47. Write a Python program to find out the number of CPUs using.\n",
    "\n",
    "import multiprocessing\n",
    "print(multiprocessing.cpu_count())\n"
   ]
  },
  {
   "cell_type": "code",
   "execution_count": 84,
   "metadata": {},
   "outputs": [
    {
     "name": "stdout",
     "output_type": "stream",
     "text": [
      "$$$$$$$$$$\n",
      "\n"
     ]
    }
   ],
   "source": [
    "# 50. Write a Python program to print without newline or space.\n",
    "\n",
    "for i in range(0, 10):\n",
    "    print('$', end = \"\")\n",
    "print('\\n')"
   ]
  },
  {
   "cell_type": "code",
   "execution_count": 85,
   "metadata": {},
   "outputs": [
    {
     "name": "stdout",
     "output_type": "stream",
     "text": [
      "3\n",
      "         41 function calls in 0.000 seconds\n",
      "\n",
      "   Ordered by: standard name\n",
      "\n",
      "   ncalls  tottime  percall  cumtime  percall filename:lineno(function)\n",
      "        1    0.000    0.000    0.000    0.000 2042761400.py:4(sum)\n",
      "        1    0.000    0.000    0.000    0.000 <string>:1(<module>)\n",
      "        3    0.000    0.000    0.000    0.000 iostream.py:206(schedule)\n",
      "        2    0.000    0.000    0.000    0.000 iostream.py:418(_is_master_process)\n",
      "        2    0.000    0.000    0.000    0.000 iostream.py:437(_schedule_flush)\n",
      "        2    0.000    0.000    0.000    0.000 iostream.py:500(write)\n",
      "        3    0.000    0.000    0.000    0.000 iostream.py:96(_event_pipe)\n",
      "        3    0.000    0.000    0.000    0.000 socket.py:480(send)\n",
      "        3    0.000    0.000    0.000    0.000 threading.py:1095(_wait_for_tstate_lock)\n",
      "        3    0.000    0.000    0.000    0.000 threading.py:1149(is_alive)\n",
      "        3    0.000    0.000    0.000    0.000 threading.py:546(is_set)\n",
      "        1    0.000    0.000    0.000    0.000 {built-in method builtins.exec}\n",
      "        2    0.000    0.000    0.000    0.000 {built-in method builtins.isinstance}\n",
      "        2    0.000    0.000    0.000    0.000 {built-in method builtins.len}\n",
      "        1    0.000    0.000    0.000    0.000 {built-in method builtins.print}\n",
      "        2    0.000    0.000    0.000    0.000 {built-in method nt.getpid}\n",
      "        3    0.000    0.000    0.000    0.000 {method 'acquire' of '_thread.lock' objects}\n",
      "        3    0.000    0.000    0.000    0.000 {method 'append' of 'collections.deque' objects}\n",
      "        1    0.000    0.000    0.000    0.000 {method 'disable' of '_lsprof.Profiler' objects}\n",
      "\n",
      "\n"
     ]
    }
   ],
   "source": [
    "# 51. Write a Python program to determine profiling of Python programs.\n",
    "\n",
    "import cProfile\n",
    "def sum():\n",
    "    print(1+2)\n",
    "cProfile.run('sum()')\n"
   ]
  },
  {
   "cell_type": "code",
   "execution_count": 88,
   "metadata": {},
   "outputs": [
    {
     "name": "stderr",
     "output_type": "stream",
     "text": [
      "abc--efg--xyz\n"
     ]
    }
   ],
   "source": [
    "# 52. Write a Python program to print to stderr.\n",
    "\n",
    "from __future__ import print_function\n",
    "import sys\n",
    "\n",
    "def eprint(*args, **kwargs):\n",
    "    print(*args, file=sys.stderr, **kwargs)\n",
    "\n",
    "eprint(\"abc\", \"efg\", \"xyz\", sep=\"--\")\n"
   ]
  },
  {
   "cell_type": "code",
   "execution_count": 94,
   "metadata": {},
   "outputs": [
    {
     "name": "stdout",
     "output_type": "stream",
     "text": [
      "*----------------------------------*\n",
      "C:\\Users\\mikol\\AppData\\Local\\Programs\\Python\\Python310;C:\\Program Files (x86)\\Intel\\Intel(R) Management Engine Components\\iCLS\\;C:\\Program Files\\Intel\\Intel(R) Management Engine Components\\iCLS\\;C:\\Windows\\system32;C:\\Windows;C:\\Windows\\System32\\Wbem;C:\\Windows\\System32\\WindowsPowerShell\\v1.0\\;C:\\Windows\\System32\\OpenSSH\\;C:\\Program Files (x86)\\Intel\\Intel(R) Management Engine Components\\DAL;C:\\Program Files\\Intel\\Intel(R) Management Engine Components\\DAL;C:\\Program Files (x86)\\Intel\\Intel(R) Management Engine Components\\IPT;C:\\Program Files\\Intel\\Intel(R) Management Engine Components\\IPT;C:\\WINDOWS\\system32;C:\\WINDOWS;C:\\WINDOWS\\System32\\Wbem;C:\\WINDOWS\\System32\\WindowsPowerShell\\v1.0\\;C:\\WINDOWS\\System32\\OpenSSH\\;C:\\Program Files\\Pandoc\\;C:\\Program Files\\Git\\cmd;C:\\Program Files (x86)\\NVIDIA Corporation\\PhysX\\Common;C:\\Program Files\\NVIDIA Corporation\\NVIDIA NvDLISR;C:\\WINDOWS\\system32;C:\\WINDOWS;C:\\WINDOWS\\System32\\Wbem;C:\\WINDOWS\\System32\\OpenSSH\\;C:\\WINDOWS\\System32\\WindowsPowerShell\\v1.0\\;;C:\\Program Files\\Docker\\Docker\\resources\\bin;C:\\ProgramData\\DockerDesktop\\version-bin;C:\\Program Files\\nodejs\\;C:\\Program Files\\Microsoft SQL Server\\Client SDK\\ODBC\\170\\Tools\\Binn\\;C:\\Program Files (x86)\\Microsoft SQL Server\\150\\Tools\\Binn\\;C:\\Program Files\\Microsoft SQL Server\\150\\Tools\\Binn\\;C:\\Program Files\\Microsoft SQL Server\\150\\DTS\\Binn\\;C:\\Program Files (x86)\\Microsoft SQL Server\\150\\DTS\\Binn\\;C:\\Program Files\\Azure Data Studio\\bin;C:\\Strawberry\\c\\bin;C:\\Strawberry\\perl\\site\\bin;C:\\Strawberry\\perl\\bin;C:\\Program Files\\PowerShell\\7\\;C:\\texlive\\2021\\bin\\win32;C:\\Users\\mikol\\AppData\\Local\\Programs\\Python\\Python310\\Scripts\\;C:\\Users\\mikol\\AppData\\Local\\Programs\\Python\\Python310\\;C:\\Users\\mikol\\AppData\\Local\\Programs\\Python\\Python39\\Scripts\\;C:\\Users\\mikol\\AppData\\Local\\Programs\\Python\\Python39\\;C:\\Users\\mikol\\AppData\\Local\\Microsoft\\WindowsApps;C:\\Program Files\\gretl;C:\\Users\\mikol\\AppData\\Local\\Programs\\Microsoft VS Code\\bin;C:\\Program Files\\Graphviz\\bin;C:\\Users\\mikol\\AppData\\Local\\Programs\\Julia-1.6.3\\bin;C:\\Users\\mikol\\anaconda3\\Scripts;C:\\Program Files\\JetBrains\\PyCharm 2021.2\\bin;C:\\Users\\mikol\\AppData\\Local\\GitHubDesktop\\bin;C:\\Users\\mikol\\AppData\\Roaming\\npm;C:\\Program Files\\Azure Data Studio\\bin;C:\\Users\\mikol\\Desktop\\LateX\\texlive\\2021\\bin\\win32;C:\\Users\\mikol\\Desktop\\Latex\\miktex\\bin\\x64\\\n",
      "*----------------------------------*\n"
     ]
    }
   ],
   "source": [
    "# 53. Write a python program to access environment variables. \n",
    "\n",
    "import os\n",
    "# Access all environment variables \n",
    "# print('*----------------------------------*')\n",
    "# print(os.environ)\n",
    "# print('*----------------------------------*')\n",
    "# Access a particular environment variable \n",
    "# print(os.environ['HOME'])\n",
    "print('*----------------------------------*')\n",
    "print(os.environ['PATH'])\n",
    "print('*----------------------------------*')\n"
   ]
  },
  {
   "cell_type": "code",
   "execution_count": 95,
   "metadata": {},
   "outputs": [
    {
     "name": "stdout",
     "output_type": "stream",
     "text": [
      "ALLUSERSPROFILE\n",
      "---------------\n",
      "C:\\ProgramData\n",
      "==============================\n",
      "APPDATA\n",
      "---------------\n",
      "C:\\Users\\mikol\\AppData\\Roaming\n",
      "==============================\n",
      "APPLICATION_INSIGHTS_NO_DIAGNOSTIC_CHANNEL\n",
      "---------------\n",
      "1\n",
      "==============================\n",
      "CHROME_CRASHPAD_PIPE_NAME\n",
      "---------------\n",
      "\\\\.\\pipe\\crashpad_14904_XATLPHZVUNKDTIRC\n",
      "==============================\n",
      "COMMONPROGRAMFILES\n",
      "---------------\n",
      "C:\\Program Files\\Common Files\n",
      "==============================\n",
      "COMMONPROGRAMFILES(X86)\n",
      "---------------\n",
      "C:\\Program Files (x86)\\Common Files\n",
      "==============================\n",
      "COMMONPROGRAMW6432\n",
      "---------------\n",
      "C:\\Program Files\\Common Files\n",
      "==============================\n",
      "COMPUTERNAME\n",
      "---------------\n",
      "DESKTOP-UPA4L3K\n",
      "==============================\n",
      "COMSPEC\n",
      "---------------\n",
      "C:\\WINDOWS\\system32\\cmd.exe\n",
      "==============================\n",
      "DRIVERDATA\n",
      "---------------\n",
      "C:\\Windows\\System32\\Drivers\\DriverData\n",
      "==============================\n",
      "EIA_KEY\n",
      "---------------\n",
      "oHmroG0Aq5P8F7g1VfZCiJilI8bxKucGyF0K5YdT\n",
      "==============================\n",
      "ELECTRON_RUN_AS_NODE\n",
      "---------------\n",
      "1\n",
      "==============================\n",
      "HOMEDRIVE\n",
      "---------------\n",
      "C:\n",
      "==============================\n",
      "HOMEPATH\n",
      "---------------\n",
      "\\Users\\mikol\n",
      "==============================\n",
      "JPY_INTERRUPT_EVENT\n",
      "---------------\n",
      "3300\n",
      "==============================\n",
      "LOCALAPPDATA\n",
      "---------------\n",
      "C:\\Users\\mikol\\AppData\\Local\n",
      "==============================\n",
      "LOGONSERVER\n",
      "---------------\n",
      "\\\\DESKTOP-UPA4L3K\n",
      "==============================\n",
      "NUMBER_OF_PROCESSORS\n",
      "---------------\n",
      "12\n",
      "==============================\n",
      "ONEDRIVE\n",
      "---------------\n",
      "C:\\Users\\mikol\\OneDrive\n",
      "==============================\n",
      "ONEDRIVECONSUMER\n",
      "---------------\n",
      "C:\\Users\\mikol\\OneDrive\n",
      "==============================\n",
      "ORIGINAL_XDG_CURRENT_DESKTOP\n",
      "---------------\n",
      "undefined\n",
      "==============================\n",
      "OS\n",
      "---------------\n",
      "Windows_NT\n",
      "==============================\n",
      "PATH\n",
      "---------------\n",
      "C:\\Users\\mikol\\AppData\\Local\\Programs\\Python\\Python310;C:\\Program Files (x86)\\Intel\\Intel(R) Management Engine Components\\iCLS\\;C:\\Program Files\\Intel\\Intel(R) Management Engine Components\\iCLS\\;C:\\Windows\\system32;C:\\Windows;C:\\Windows\\System32\\Wbem;C:\\Windows\\System32\\WindowsPowerShell\\v1.0\\;C:\\Windows\\System32\\OpenSSH\\;C:\\Program Files (x86)\\Intel\\Intel(R) Management Engine Components\\DAL;C:\\Program Files\\Intel\\Intel(R) Management Engine Components\\DAL;C:\\Program Files (x86)\\Intel\\Intel(R) Management Engine Components\\IPT;C:\\Program Files\\Intel\\Intel(R) Management Engine Components\\IPT;C:\\WINDOWS\\system32;C:\\WINDOWS;C:\\WINDOWS\\System32\\Wbem;C:\\WINDOWS\\System32\\WindowsPowerShell\\v1.0\\;C:\\WINDOWS\\System32\\OpenSSH\\;C:\\Program Files\\Pandoc\\;C:\\Program Files\\Git\\cmd;C:\\Program Files (x86)\\NVIDIA Corporation\\PhysX\\Common;C:\\Program Files\\NVIDIA Corporation\\NVIDIA NvDLISR;C:\\WINDOWS\\system32;C:\\WINDOWS;C:\\WINDOWS\\System32\\Wbem;C:\\WINDOWS\\System32\\OpenSSH\\;C:\\WINDOWS\\System32\\WindowsPowerShell\\v1.0\\;;C:\\Program Files\\Docker\\Docker\\resources\\bin;C:\\ProgramData\\DockerDesktop\\version-bin;C:\\Program Files\\nodejs\\;C:\\Program Files\\Microsoft SQL Server\\Client SDK\\ODBC\\170\\Tools\\Binn\\;C:\\Program Files (x86)\\Microsoft SQL Server\\150\\Tools\\Binn\\;C:\\Program Files\\Microsoft SQL Server\\150\\Tools\\Binn\\;C:\\Program Files\\Microsoft SQL Server\\150\\DTS\\Binn\\;C:\\Program Files (x86)\\Microsoft SQL Server\\150\\DTS\\Binn\\;C:\\Program Files\\Azure Data Studio\\bin;C:\\Strawberry\\c\\bin;C:\\Strawberry\\perl\\site\\bin;C:\\Strawberry\\perl\\bin;C:\\Program Files\\PowerShell\\7\\;C:\\texlive\\2021\\bin\\win32;C:\\Users\\mikol\\AppData\\Local\\Programs\\Python\\Python310\\Scripts\\;C:\\Users\\mikol\\AppData\\Local\\Programs\\Python\\Python310\\;C:\\Users\\mikol\\AppData\\Local\\Programs\\Python\\Python39\\Scripts\\;C:\\Users\\mikol\\AppData\\Local\\Programs\\Python\\Python39\\;C:\\Users\\mikol\\AppData\\Local\\Microsoft\\WindowsApps;C:\\Program Files\\gretl;C:\\Users\\mikol\\AppData\\Local\\Programs\\Microsoft VS Code\\bin;C:\\Program Files\\Graphviz\\bin;C:\\Users\\mikol\\AppData\\Local\\Programs\\Julia-1.6.3\\bin;C:\\Users\\mikol\\anaconda3\\Scripts;C:\\Program Files\\JetBrains\\PyCharm 2021.2\\bin;C:\\Users\\mikol\\AppData\\Local\\GitHubDesktop\\bin;C:\\Users\\mikol\\AppData\\Roaming\\npm;C:\\Program Files\\Azure Data Studio\\bin;C:\\Users\\mikol\\Desktop\\LateX\\texlive\\2021\\bin\\win32;C:\\Users\\mikol\\Desktop\\Latex\\miktex\\bin\\x64\\\n",
      "==============================\n",
      "PATHEXT\n",
      "---------------\n",
      ".COM;.EXE;.BAT;.CMD;.VBS;.VBE;.JS;.JSE;.WSF;.WSH;.MSC\n",
      "==============================\n",
      "POWERSHELL_DISTRIBUTION_CHANNEL\n",
      "---------------\n",
      "MSI:Windows 10 Home\n",
      "==============================\n",
      "PROCESSOR_ARCHITECTURE\n",
      "---------------\n",
      "AMD64\n",
      "==============================\n",
      "PROCESSOR_IDENTIFIER\n",
      "---------------\n",
      "Intel64 Family 6 Model 158 Stepping 10, GenuineIntel\n",
      "==============================\n",
      "PROCESSOR_LEVEL\n",
      "---------------\n",
      "6\n",
      "==============================\n",
      "PROCESSOR_REVISION\n",
      "---------------\n",
      "9e0a\n",
      "==============================\n",
      "PROGRAMDATA\n",
      "---------------\n",
      "C:\\ProgramData\n",
      "==============================\n",
      "PROGRAMFILES\n",
      "---------------\n",
      "C:\\Program Files\n",
      "==============================\n",
      "PROGRAMFILES(X86)\n",
      "---------------\n",
      "C:\\Program Files (x86)\n",
      "==============================\n",
      "PROGRAMW6432\n",
      "---------------\n",
      "C:\\Program Files\n",
      "==============================\n",
      "PSMODULEPATH\n",
      "---------------\n",
      "C:\\Program Files\\WindowsPowerShell\\Modules;C:\\WINDOWS\\system32\\WindowsPowerShell\\v1.0\\Modules;C:\\Program Files (x86)\\Microsoft SQL Server\\150\\Tools\\PowerShell\\Modules\\\n",
      "==============================\n",
      "PUBLIC\n",
      "---------------\n",
      "C:\\Users\\Public\n",
      "==============================\n",
      "PYTHONIOENCODING\n",
      "---------------\n",
      "utf-8\n",
      "==============================\n",
      "PYTHONUNBUFFERED\n",
      "---------------\n",
      "1\n",
      "==============================\n",
      "SESSIONNAME\n",
      "---------------\n",
      "Console\n",
      "==============================\n",
      "SYSTEMDRIVE\n",
      "---------------\n",
      "C:\n",
      "==============================\n",
      "SYSTEMROOT\n",
      "---------------\n",
      "C:\\WINDOWS\n",
      "==============================\n",
      "TEMP\n",
      "---------------\n",
      "C:\\Users\\mikol\\AppData\\Local\\Temp\n",
      "==============================\n",
      "TMP\n",
      "---------------\n",
      "C:\\Users\\mikol\\AppData\\Local\\Temp\n",
      "==============================\n",
      "USERDOMAIN\n",
      "---------------\n",
      "DESKTOP-UPA4L3K\n",
      "==============================\n",
      "USERDOMAIN_ROAMINGPROFILE\n",
      "---------------\n",
      "DESKTOP-UPA4L3K\n",
      "==============================\n",
      "USERNAME\n",
      "---------------\n",
      "mikol\n",
      "==============================\n",
      "USERPROFILE\n",
      "---------------\n",
      "C:\\Users\\mikol\n",
      "==============================\n",
      "VSCODE_AMD_ENTRYPOINT\n",
      "---------------\n",
      "vs/workbench/api/node/extensionHostProcess\n",
      "==============================\n",
      "VSCODE_CODE_CACHE_PATH\n",
      "---------------\n",
      "C:\\Users\\mikol\\AppData\\Roaming\\Code\\CachedData\\8dfae7a5cd50421d10cd99cb873990460525a898\n",
      "==============================\n",
      "VSCODE_CWD\n",
      "---------------\n",
      "C:\\Users\\mikol\\AppData\\Local\\Programs\\Microsoft VS Code\n",
      "==============================\n",
      "VSCODE_HANDLES_UNCAUGHT_ERRORS\n",
      "---------------\n",
      "true\n",
      "==============================\n",
      "VSCODE_IPC_HOOK\n",
      "---------------\n",
      "\\\\.\\pipe\\0453b8ac449545562d35a238bc97788e-1.66.1-main-sock\n",
      "==============================\n",
      "VSCODE_IPC_HOOK_EXTHOST\n",
      "---------------\n",
      "\\\\.\\pipe\\vscode-ipc-c8a49698-8ba3-40a5-a7b4-a3ee2c7198de-sock\n",
      "==============================\n",
      "VSCODE_LOG_NATIVE\n",
      "---------------\n",
      "false\n",
      "==============================\n",
      "VSCODE_LOG_STACK\n",
      "---------------\n",
      "false\n",
      "==============================\n",
      "VSCODE_NLS_CONFIG\n",
      "---------------\n",
      "{\"locale\":\"pl\",\"availableLanguages\":{},\"_languagePackSupport\":true}\n",
      "==============================\n",
      "VSCODE_PID\n",
      "---------------\n",
      "14904\n",
      "==============================\n",
      "VSCODE_PIPE_LOGGING\n",
      "---------------\n",
      "true\n",
      "==============================\n",
      "VSCODE_VERBOSE_LOGGING\n",
      "---------------\n",
      "true\n",
      "==============================\n",
      "WINDIR\n",
      "---------------\n",
      "C:\\WINDOWS\n",
      "==============================\n",
      "__COMPAT_LAYER\n",
      "---------------\n",
      "DetectorsAppHealth\n",
      "==============================\n",
      "PYDEVD_USE_FRAME_EVAL\n",
      "---------------\n",
      "NO\n",
      "==============================\n",
      "TERM\n",
      "---------------\n",
      "xterm-color\n",
      "==============================\n",
      "CLICOLOR\n",
      "---------------\n",
      "1\n",
      "==============================\n",
      "PAGER\n",
      "---------------\n",
      "cat\n",
      "==============================\n",
      "GIT_PAGER\n",
      "---------------\n",
      "cat\n",
      "==============================\n",
      "MPLBACKEND\n",
      "---------------\n",
      "module://matplotlib_inline.backend_inline\n",
      "==============================\n"
     ]
    }
   ],
   "source": [
    "import os\n",
    "for data in os.environ:\n",
    "   print(data)\n",
    "   print('-'*15)\n",
    "   print(os.environ[data])\n",
    "   print('='*30)"
   ]
  },
  {
   "cell_type": "code",
   "execution_count": 96,
   "metadata": {},
   "outputs": [
    {
     "name": "stdout",
     "output_type": "stream",
     "text": [
      "ALLUSERSPROFILE: C:\\ProgramData\n",
      "APPDATA: C:\\Users\\mikol\\AppData\\Roaming\n",
      "APPLICATION_INSIGHTS_NO_DIAGNOSTIC_CHANNEL: 1\n",
      "CHROME_CRASHPAD_PIPE_NAME: \\\\.\\pipe\\crashpad_14904_XATLPHZVUNKDTIRC\n",
      "COMMONPROGRAMFILES: C:\\Program Files\\Common Files\n",
      "COMMONPROGRAMFILES(X86): C:\\Program Files (x86)\\Common Files\n",
      "COMMONPROGRAMW6432: C:\\Program Files\\Common Files\n",
      "COMPUTERNAME: DESKTOP-UPA4L3K\n",
      "COMSPEC: C:\\WINDOWS\\system32\\cmd.exe\n",
      "DRIVERDATA: C:\\Windows\\System32\\Drivers\\DriverData\n",
      "EIA_KEY: oHmroG0Aq5P8F7g1VfZCiJilI8bxKucGyF0K5YdT\n",
      "ELECTRON_RUN_AS_NODE: 1\n",
      "HOMEDRIVE: C:\n",
      "HOMEPATH: \\Users\\mikol\n",
      "JPY_INTERRUPT_EVENT: 3300\n",
      "LOCALAPPDATA: C:\\Users\\mikol\\AppData\\Local\n",
      "LOGONSERVER: \\\\DESKTOP-UPA4L3K\n",
      "NUMBER_OF_PROCESSORS: 12\n",
      "ONEDRIVE: C:\\Users\\mikol\\OneDrive\n",
      "ONEDRIVECONSUMER: C:\\Users\\mikol\\OneDrive\n",
      "ORIGINAL_XDG_CURRENT_DESKTOP: undefined\n",
      "OS: Windows_NT\n",
      "PATH: C:\\Users\\mikol\\AppData\\Local\\Programs\\Python\\Python310;C:\\Program Files (x86)\\Intel\\Intel(R) Management Engine Components\\iCLS\\;C:\\Program Files\\Intel\\Intel(R) Management Engine Components\\iCLS\\;C:\\Windows\\system32;C:\\Windows;C:\\Windows\\System32\\Wbem;C:\\Windows\\System32\\WindowsPowerShell\\v1.0\\;C:\\Windows\\System32\\OpenSSH\\;C:\\Program Files (x86)\\Intel\\Intel(R) Management Engine Components\\DAL;C:\\Program Files\\Intel\\Intel(R) Management Engine Components\\DAL;C:\\Program Files (x86)\\Intel\\Intel(R) Management Engine Components\\IPT;C:\\Program Files\\Intel\\Intel(R) Management Engine Components\\IPT;C:\\WINDOWS\\system32;C:\\WINDOWS;C:\\WINDOWS\\System32\\Wbem;C:\\WINDOWS\\System32\\WindowsPowerShell\\v1.0\\;C:\\WINDOWS\\System32\\OpenSSH\\;C:\\Program Files\\Pandoc\\;C:\\Program Files\\Git\\cmd;C:\\Program Files (x86)\\NVIDIA Corporation\\PhysX\\Common;C:\\Program Files\\NVIDIA Corporation\\NVIDIA NvDLISR;C:\\WINDOWS\\system32;C:\\WINDOWS;C:\\WINDOWS\\System32\\Wbem;C:\\WINDOWS\\System32\\OpenSSH\\;C:\\WINDOWS\\System32\\WindowsPowerShell\\v1.0\\;;C:\\Program Files\\Docker\\Docker\\resources\\bin;C:\\ProgramData\\DockerDesktop\\version-bin;C:\\Program Files\\nodejs\\;C:\\Program Files\\Microsoft SQL Server\\Client SDK\\ODBC\\170\\Tools\\Binn\\;C:\\Program Files (x86)\\Microsoft SQL Server\\150\\Tools\\Binn\\;C:\\Program Files\\Microsoft SQL Server\\150\\Tools\\Binn\\;C:\\Program Files\\Microsoft SQL Server\\150\\DTS\\Binn\\;C:\\Program Files (x86)\\Microsoft SQL Server\\150\\DTS\\Binn\\;C:\\Program Files\\Azure Data Studio\\bin;C:\\Strawberry\\c\\bin;C:\\Strawberry\\perl\\site\\bin;C:\\Strawberry\\perl\\bin;C:\\Program Files\\PowerShell\\7\\;C:\\texlive\\2021\\bin\\win32;C:\\Users\\mikol\\AppData\\Local\\Programs\\Python\\Python310\\Scripts\\;C:\\Users\\mikol\\AppData\\Local\\Programs\\Python\\Python310\\;C:\\Users\\mikol\\AppData\\Local\\Programs\\Python\\Python39\\Scripts\\;C:\\Users\\mikol\\AppData\\Local\\Programs\\Python\\Python39\\;C:\\Users\\mikol\\AppData\\Local\\Microsoft\\WindowsApps;C:\\Program Files\\gretl;C:\\Users\\mikol\\AppData\\Local\\Programs\\Microsoft VS Code\\bin;C:\\Program Files\\Graphviz\\bin;C:\\Users\\mikol\\AppData\\Local\\Programs\\Julia-1.6.3\\bin;C:\\Users\\mikol\\anaconda3\\Scripts;C:\\Program Files\\JetBrains\\PyCharm 2021.2\\bin;C:\\Users\\mikol\\AppData\\Local\\GitHubDesktop\\bin;C:\\Users\\mikol\\AppData\\Roaming\\npm;C:\\Program Files\\Azure Data Studio\\bin;C:\\Users\\mikol\\Desktop\\LateX\\texlive\\2021\\bin\\win32;C:\\Users\\mikol\\Desktop\\Latex\\miktex\\bin\\x64\\\n",
      "PATHEXT: .COM;.EXE;.BAT;.CMD;.VBS;.VBE;.JS;.JSE;.WSF;.WSH;.MSC\n",
      "POWERSHELL_DISTRIBUTION_CHANNEL: MSI:Windows 10 Home\n",
      "PROCESSOR_ARCHITECTURE: AMD64\n",
      "PROCESSOR_IDENTIFIER: Intel64 Family 6 Model 158 Stepping 10, GenuineIntel\n",
      "PROCESSOR_LEVEL: 6\n",
      "PROCESSOR_REVISION: 9e0a\n",
      "PROGRAMDATA: C:\\ProgramData\n",
      "PROGRAMFILES: C:\\Program Files\n",
      "PROGRAMFILES(X86): C:\\Program Files (x86)\n",
      "PROGRAMW6432: C:\\Program Files\n",
      "PSMODULEPATH: C:\\Program Files\\WindowsPowerShell\\Modules;C:\\WINDOWS\\system32\\WindowsPowerShell\\v1.0\\Modules;C:\\Program Files (x86)\\Microsoft SQL Server\\150\\Tools\\PowerShell\\Modules\\\n",
      "PUBLIC: C:\\Users\\Public\n",
      "PYTHONIOENCODING: utf-8\n",
      "PYTHONUNBUFFERED: 1\n",
      "SESSIONNAME: Console\n",
      "SYSTEMDRIVE: C:\n",
      "SYSTEMROOT: C:\\WINDOWS\n",
      "TEMP: C:\\Users\\mikol\\AppData\\Local\\Temp\n",
      "TMP: C:\\Users\\mikol\\AppData\\Local\\Temp\n",
      "USERDOMAIN: DESKTOP-UPA4L3K\n",
      "USERDOMAIN_ROAMINGPROFILE: DESKTOP-UPA4L3K\n",
      "USERNAME: mikol\n",
      "USERPROFILE: C:\\Users\\mikol\n",
      "VSCODE_AMD_ENTRYPOINT: vs/workbench/api/node/extensionHostProcess\n",
      "VSCODE_CODE_CACHE_PATH: C:\\Users\\mikol\\AppData\\Roaming\\Code\\CachedData\\8dfae7a5cd50421d10cd99cb873990460525a898\n",
      "VSCODE_CWD: C:\\Users\\mikol\\AppData\\Local\\Programs\\Microsoft VS Code\n",
      "VSCODE_HANDLES_UNCAUGHT_ERRORS: true\n",
      "VSCODE_IPC_HOOK: \\\\.\\pipe\\0453b8ac449545562d35a238bc97788e-1.66.1-main-sock\n",
      "VSCODE_IPC_HOOK_EXTHOST: \\\\.\\pipe\\vscode-ipc-c8a49698-8ba3-40a5-a7b4-a3ee2c7198de-sock\n",
      "VSCODE_LOG_NATIVE: false\n",
      "VSCODE_LOG_STACK: false\n",
      "VSCODE_NLS_CONFIG: {\"locale\":\"pl\",\"availableLanguages\":{},\"_languagePackSupport\":true}\n",
      "VSCODE_PID: 14904\n",
      "VSCODE_PIPE_LOGGING: true\n",
      "VSCODE_VERBOSE_LOGGING: true\n",
      "WINDIR: C:\\WINDOWS\n",
      "__COMPAT_LAYER: DetectorsAppHealth\n",
      "PYDEVD_USE_FRAME_EVAL: NO\n",
      "TERM: xterm-color\n",
      "CLICOLOR: 1\n",
      "PAGER: cat\n",
      "GIT_PAGER: cat\n",
      "MPLBACKEND: module://matplotlib_inline.backend_inline\n"
     ]
    }
   ],
   "source": [
    "import os\n",
    "for item, value in os.environ.items():\n",
    "   print('{}: {}'.format(item, value))\n"
   ]
  },
  {
   "cell_type": "code",
   "execution_count": 98,
   "metadata": {},
   "outputs": [
    {
     "name": "stdout",
     "output_type": "stream",
     "text": [
      "ALLUSERSPROFILE  -->  C:\\ProgramData\n",
      "APPDATA  -->  C:\\Users\\mikol\\AppData\\Roaming\n",
      "APPLICATION_INSIGHTS_NO_DIAGNOSTIC_CHANNEL  -->  1\n",
      "CHROME_CRASHPAD_PIPE_NAME  -->  \\\\.\\pipe\\crashpad_14904_XATLPHZVUNKDTIRC\n",
      "COMMONPROGRAMFILES  -->  C:\\Program Files\\Common Files\n",
      "COMMONPROGRAMFILES(X86)  -->  C:\\Program Files (x86)\\Common Files\n",
      "COMMONPROGRAMW6432  -->  C:\\Program Files\\Common Files\n",
      "COMPUTERNAME  -->  DESKTOP-UPA4L3K\n",
      "COMSPEC  -->  C:\\WINDOWS\\system32\\cmd.exe\n",
      "DRIVERDATA  -->  C:\\Windows\\System32\\Drivers\\DriverData\n",
      "EIA_KEY  -->  oHmroG0Aq5P8F7g1VfZCiJilI8bxKucGyF0K5YdT\n",
      "ELECTRON_RUN_AS_NODE  -->  1\n",
      "HOMEDRIVE  -->  C:\n",
      "HOMEPATH  -->  \\Users\\mikol\n",
      "JPY_INTERRUPT_EVENT  -->  3300\n",
      "LOCALAPPDATA  -->  C:\\Users\\mikol\\AppData\\Local\n",
      "LOGONSERVER  -->  \\\\DESKTOP-UPA4L3K\n",
      "NUMBER_OF_PROCESSORS  -->  12\n",
      "ONEDRIVE  -->  C:\\Users\\mikol\\OneDrive\n",
      "ONEDRIVECONSUMER  -->  C:\\Users\\mikol\\OneDrive\n",
      "ORIGINAL_XDG_CURRENT_DESKTOP  -->  undefined\n",
      "OS  -->  Windows_NT\n",
      "PATH  -->  C:\\Users\\mikol\\AppData\\Local\\Programs\\Python\\Python310;C:\\Program Files (x86)\\Intel\\Intel(R) Management Engine Components\\iCLS\\;C:\\Program Files\\Intel\\Intel(R) Management Engine Components\\iCLS\\;C:\\Windows\\system32;C:\\Windows;C:\\Windows\\System32\\Wbem;C:\\Windows\\System32\\WindowsPowerShell\\v1.0\\;C:\\Windows\\System32\\OpenSSH\\;C:\\Program Files (x86)\\Intel\\Intel(R) Management Engine Components\\DAL;C:\\Program Files\\Intel\\Intel(R) Management Engine Components\\DAL;C:\\Program Files (x86)\\Intel\\Intel(R) Management Engine Components\\IPT;C:\\Program Files\\Intel\\Intel(R) Management Engine Components\\IPT;C:\\WINDOWS\\system32;C:\\WINDOWS;C:\\WINDOWS\\System32\\Wbem;C:\\WINDOWS\\System32\\WindowsPowerShell\\v1.0\\;C:\\WINDOWS\\System32\\OpenSSH\\;C:\\Program Files\\Pandoc\\;C:\\Program Files\\Git\\cmd;C:\\Program Files (x86)\\NVIDIA Corporation\\PhysX\\Common;C:\\Program Files\\NVIDIA Corporation\\NVIDIA NvDLISR;C:\\WINDOWS\\system32;C:\\WINDOWS;C:\\WINDOWS\\System32\\Wbem;C:\\WINDOWS\\System32\\OpenSSH\\;C:\\WINDOWS\\System32\\WindowsPowerShell\\v1.0\\;;C:\\Program Files\\Docker\\Docker\\resources\\bin;C:\\ProgramData\\DockerDesktop\\version-bin;C:\\Program Files\\nodejs\\;C:\\Program Files\\Microsoft SQL Server\\Client SDK\\ODBC\\170\\Tools\\Binn\\;C:\\Program Files (x86)\\Microsoft SQL Server\\150\\Tools\\Binn\\;C:\\Program Files\\Microsoft SQL Server\\150\\Tools\\Binn\\;C:\\Program Files\\Microsoft SQL Server\\150\\DTS\\Binn\\;C:\\Program Files (x86)\\Microsoft SQL Server\\150\\DTS\\Binn\\;C:\\Program Files\\Azure Data Studio\\bin;C:\\Strawberry\\c\\bin;C:\\Strawberry\\perl\\site\\bin;C:\\Strawberry\\perl\\bin;C:\\Program Files\\PowerShell\\7\\;C:\\texlive\\2021\\bin\\win32;C:\\Users\\mikol\\AppData\\Local\\Programs\\Python\\Python310\\Scripts\\;C:\\Users\\mikol\\AppData\\Local\\Programs\\Python\\Python310\\;C:\\Users\\mikol\\AppData\\Local\\Programs\\Python\\Python39\\Scripts\\;C:\\Users\\mikol\\AppData\\Local\\Programs\\Python\\Python39\\;C:\\Users\\mikol\\AppData\\Local\\Microsoft\\WindowsApps;C:\\Program Files\\gretl;C:\\Users\\mikol\\AppData\\Local\\Programs\\Microsoft VS Code\\bin;C:\\Program Files\\Graphviz\\bin;C:\\Users\\mikol\\AppData\\Local\\Programs\\Julia-1.6.3\\bin;C:\\Users\\mikol\\anaconda3\\Scripts;C:\\Program Files\\JetBrains\\PyCharm 2021.2\\bin;C:\\Users\\mikol\\AppData\\Local\\GitHubDesktop\\bin;C:\\Users\\mikol\\AppData\\Roaming\\npm;C:\\Program Files\\Azure Data Studio\\bin;C:\\Users\\mikol\\Desktop\\LateX\\texlive\\2021\\bin\\win32;C:\\Users\\mikol\\Desktop\\Latex\\miktex\\bin\\x64\\\n",
      "PATHEXT  -->  .COM;.EXE;.BAT;.CMD;.VBS;.VBE;.JS;.JSE;.WSF;.WSH;.MSC\n",
      "POWERSHELL_DISTRIBUTION_CHANNEL  -->  MSI:Windows 10 Home\n",
      "PROCESSOR_ARCHITECTURE  -->  AMD64\n",
      "PROCESSOR_IDENTIFIER  -->  Intel64 Family 6 Model 158 Stepping 10, GenuineIntel\n",
      "PROCESSOR_LEVEL  -->  6\n",
      "PROCESSOR_REVISION  -->  9e0a\n",
      "PROGRAMDATA  -->  C:\\ProgramData\n",
      "PROGRAMFILES  -->  C:\\Program Files\n",
      "PROGRAMFILES(X86)  -->  C:\\Program Files (x86)\n",
      "PROGRAMW6432  -->  C:\\Program Files\n",
      "PSMODULEPATH  -->  C:\\Program Files\\WindowsPowerShell\\Modules;C:\\WINDOWS\\system32\\WindowsPowerShell\\v1.0\\Modules;C:\\Program Files (x86)\\Microsoft SQL Server\\150\\Tools\\PowerShell\\Modules\\\n",
      "PUBLIC  -->  C:\\Users\\Public\n",
      "PYTHONIOENCODING  -->  utf-8\n",
      "PYTHONUNBUFFERED  -->  1\n",
      "SESSIONNAME  -->  Console\n",
      "SYSTEMDRIVE  -->  C:\n",
      "SYSTEMROOT  -->  C:\\WINDOWS\n",
      "TEMP  -->  C:\\Users\\mikol\\AppData\\Local\\Temp\n",
      "TMP  -->  C:\\Users\\mikol\\AppData\\Local\\Temp\n",
      "USERDOMAIN  -->  DESKTOP-UPA4L3K\n",
      "USERDOMAIN_ROAMINGPROFILE  -->  DESKTOP-UPA4L3K\n",
      "USERNAME  -->  mikol\n",
      "USERPROFILE  -->  C:\\Users\\mikol\n",
      "VSCODE_AMD_ENTRYPOINT  -->  vs/workbench/api/node/extensionHostProcess\n",
      "VSCODE_CODE_CACHE_PATH  -->  C:\\Users\\mikol\\AppData\\Roaming\\Code\\CachedData\\8dfae7a5cd50421d10cd99cb873990460525a898\n",
      "VSCODE_CWD  -->  C:\\Users\\mikol\\AppData\\Local\\Programs\\Microsoft VS Code\n",
      "VSCODE_HANDLES_UNCAUGHT_ERRORS  -->  true\n",
      "VSCODE_IPC_HOOK  -->  \\\\.\\pipe\\0453b8ac449545562d35a238bc97788e-1.66.1-main-sock\n",
      "VSCODE_IPC_HOOK_EXTHOST  -->  \\\\.\\pipe\\vscode-ipc-c8a49698-8ba3-40a5-a7b4-a3ee2c7198de-sock\n",
      "VSCODE_LOG_NATIVE  -->  false\n",
      "VSCODE_LOG_STACK  -->  false\n",
      "VSCODE_NLS_CONFIG  -->  {\"locale\":\"pl\",\"availableLanguages\":{},\"_languagePackSupport\":true}\n",
      "VSCODE_PID  -->  14904\n",
      "VSCODE_PIPE_LOGGING  -->  true\n",
      "VSCODE_VERBOSE_LOGGING  -->  true\n",
      "WINDIR  -->  C:\\WINDOWS\n",
      "__COMPAT_LAYER  -->  DetectorsAppHealth\n",
      "PYDEVD_USE_FRAME_EVAL  -->  NO\n",
      "TERM  -->  xterm-color\n",
      "CLICOLOR  -->  1\n",
      "PAGER  -->  cat\n",
      "GIT_PAGER  -->  cat\n",
      "MPLBACKEND  -->  module://matplotlib_inline.backend_inline\n"
     ]
    }
   ],
   "source": [
    "import os\n",
    "for ev in os.environ:\n",
    "    print( ev , ' --> ' , os.environ[ev])"
   ]
  },
  {
   "cell_type": "code",
   "execution_count": 99,
   "metadata": {},
   "outputs": [
    {
     "name": "stdout",
     "output_type": "stream",
     "text": [
      "mikol\n"
     ]
    }
   ],
   "source": [
    "# 54. Write a Python program to get the current username\n",
    "\n",
    "import getpass\n",
    "print(getpass.getuser())"
   ]
  },
  {
   "cell_type": "code",
   "execution_count": 104,
   "metadata": {},
   "outputs": [
    {
     "name": "stdout",
     "output_type": "stream",
     "text": [
      "172.17.176.1'\n"
     ]
    }
   ],
   "source": [
    "# 55. Write a Python to find local IP addresses using Python's stdlib\n",
    "\n",
    "import socket\n",
    "\n",
    "print(str(socket.gethostbyname_ex(socket.gethostname()))[26:39])\n"
   ]
  },
  {
   "cell_type": "code",
   "execution_count": 105,
   "metadata": {},
   "outputs": [
    {
     "name": "stdout",
     "output_type": "stream",
     "text": [
      "192.168.0.101\n"
     ]
    }
   ],
   "source": [
    "import socket\n",
    "print(socket.gethostbyname(socket.gethostname()))"
   ]
  },
  {
   "cell_type": "code",
   "execution_count": 109,
   "metadata": {},
   "outputs": [
    {
     "name": "stdout",
     "output_type": "stream",
     "text": [
      "\n",
      "Time to sum of 1 to  23222222  and required time to calculate is : (269635808919753, 1.1250557899475098)\n"
     ]
    }
   ],
   "source": [
    "# 57. Write a Python program to get execution time for a Python method.\n",
    "\n",
    "import time\n",
    "\n",
    "\n",
    "def sum_of_n_numbers(n):\n",
    "    start_time = time.time()\n",
    "    s = 0\n",
    "    for i in range(1,n+1):\n",
    "        s = s + i\n",
    "    end_time = time.time()\n",
    "    return s,end_time-start_time\n",
    "\n",
    "n = 23222222\n",
    "print(\"\\nTime to sum of 1 to \",n,\" and required time to calculate is :\",sum_of_n_numbers(n))\n"
   ]
  },
  {
   "cell_type": "code",
   "execution_count": 118,
   "metadata": {},
   "outputs": [
    {
     "name": "stdout",
     "output_type": "stream",
     "text": [
      "Absolute file path:  c:\\Users\\mikol\\Desktop\\Everyday_practise\\Everyday_practise\\Python\\Practise_files\\path_fname\n"
     ]
    }
   ],
   "source": [
    "# 63. Write a Python program to get an absolute file path.\n",
    "\n",
    "def absolute_file_path(path_fname):\n",
    "        import os\n",
    "        return os.path.abspath('path_fname')        \n",
    "print(\"Absolute file path: \",absolute_file_path(\"jb.ipynb\"))\n"
   ]
  },
  {
   "cell_type": "code",
   "execution_count": 120,
   "metadata": {},
   "outputs": [
    {
     "name": "stdout",
     "output_type": "stream",
     "text": [
      "Last modified: Sat Apr  9 17:47:58 2022\n",
      "Created: Wed Mar 23 12:47:33 2022\n"
     ]
    }
   ],
   "source": [
    "# 64. Write a Python program to get file creation and modification date/times.\n",
    "\n",
    "import os.path, time\n",
    "print(\"Last modified: %s\" % time.ctime(os.path.getmtime(\"jb.ipynb\")))\n",
    "print(\"Created: %s\" % time.ctime(os.path.getctime(\"jb.ipynb\")))\n"
   ]
  },
  {
   "cell_type": "code",
   "execution_count": 4,
   "metadata": {},
   "outputs": [
    {
     "name": "stdout",
     "output_type": "stream",
     "text": [
      "2\n"
     ]
    }
   ],
   "source": [
    "# 68. Write a Python program to calculate the sum of the digits in an integer.\n",
    "\n",
    "a = int(input(\"what is the number?\"))\n",
    "sum = 0\n",
    "for i in str(a):\n",
    "    sum += int(i)\n",
    "\n",
    "print(sum)\n"
   ]
  },
  {
   "cell_type": "code",
   "execution_count": 1,
   "metadata": {},
   "outputs": [
    {
     "name": "stdout",
     "output_type": "stream",
     "text": [
      "Numbers in sorted order:  11 22 33\n"
     ]
    }
   ],
   "source": [
    "# 69. Write a Python program to sort three integers without using conditional statements and loops\n",
    "\n",
    "x = int(input(\"Input first number: \"))\n",
    "y = int(input(\"Input second number: \"))\n",
    "z = int(input(\"Input third number: \"))\n",
    "\n",
    "a1 = min(x, y, z)\n",
    "a3 = max(x, y, z)\n",
    "a2 = (x + y + z) - a1 - a3\n",
    "print(\"Numbers in sorted order: \", a1, a2, a3)\n"
   ]
  },
  {
   "cell_type": "code",
   "execution_count": 5,
   "metadata": {},
   "outputs": [
    {
     "name": "stdout",
     "output_type": "stream",
     "text": [
      "Q&A_Interviews.ipynb\n",
      "06_test.ipynb\n",
      "07_next.ipynb\n",
      "08_next.ipynb\n",
      "jb.ipynb\n",
      "09_next.ipynb\n"
     ]
    }
   ],
   "source": [
    "# 70. Write a Python program to sort files by date.\n",
    "\n",
    "import glob\n",
    "import os\n",
    "\n",
    "files = glob.glob(\"*.ipynb\")\n",
    "files.sort(key=os.path.getmtime)\n",
    "print(\"\\n\".join(files))\n"
   ]
  },
  {
   "cell_type": "code",
   "execution_count": 6,
   "metadata": {},
   "outputs": [
    {
     "name": "stdout",
     "output_type": "stream",
     "text": [
      "Q&A_Interviews.ipynb\n",
      "02_dictionary.py\n",
      "03_functions.py\n",
      "04_if_statement.py\n",
      "05_for_loop.py\n",
      "01_tuples_and_lists.py\n",
      "06_test.ipynb\n",
      "modules.py\n",
      "07_next.ipynb\n",
      "08_next.ipynb\n",
      "nest30.py\n",
      "jb.ipynb\n",
      "09_next.ipynb\n"
     ]
    }
   ],
   "source": [
    "import os\n",
    "os.chdir('c:')\n",
    "result = sorted(filter(os.path.isfile, os.listdir('.')), key=os.path.getmtime)\n",
    "print('\\n'.join(map(str, result)))\n"
   ]
  },
  {
   "cell_type": "code",
   "execution_count": 8,
   "metadata": {},
   "outputs": [
    {
     "name": "stdout",
     "output_type": "stream",
     "text": [
      "Thu Feb 10 17:58:38 2022 Q&A_Interviews.ipynb\n",
      "Thu Feb 10 19:22:47 2022 01_tuples_and_lists.py\n",
      "Sun Feb 13 12:07:54 2022 02_dictionary.py\n",
      "Sun Feb 13 12:43:29 2022 03_functions.py\n",
      "Mon Feb 14 13:46:31 2022 04_if_statement.py\n",
      "Fri Feb 18 12:10:25 2022 05_for_loop.py\n",
      "Thu Mar 17 09:51:38 2022 06_test.ipynb\n",
      "Sun Mar 20 09:00:17 2022 modules.py\n",
      "Tue Mar 22 16:04:43 2022 07_next.ipynb\n",
      "Wed Mar 23 11:48:42 2022 08_next.ipynb\n",
      "Wed Mar 23 12:47:33 2022 jb.ipynb\n",
      "Thu Mar 24 10:25:31 2022 09_next.ipynb\n",
      "Wed Mar 30 09:06:28 2022 nest30.py\n"
     ]
    }
   ],
   "source": [
    "# 71. Write a Python program to get a directory listing, sorted by creation date.\n",
    "\n",
    "from stat import S_ISREG, ST_CTIME, ST_MODE\n",
    "import os, sys, time\n",
    "\n",
    "#Relative or absolute path to the directory\n",
    "dir_path = sys.argv[1] if len(sys.argv) == 2 else r'.'\n",
    "\n",
    "#all entries in the directory w/ stats\n",
    "data = (os.path.join(dir_path, fn) for fn in os.listdir(dir_path))\n",
    "data = ((os.stat(path), path) for path in data)\n",
    "\n",
    "# regular files, insert creation date\n",
    "data = ((stat[ST_CTIME], path)\n",
    "           for stat, path in data if S_ISREG(stat[ST_MODE]))\n",
    "\n",
    "for cdate, path in sorted(data):\n",
    "    print(time.ctime(cdate), os.path.basename(path))\n",
    "\t"
   ]
  },
  {
   "cell_type": "code",
   "execution_count": 9,
   "metadata": {},
   "outputs": [
    {
     "name": "stdout",
     "output_type": "stream",
     "text": [
      "['__doc__', '__loader__', '__name__', '__package__', '__spec__', 'acos', 'acosh', 'asin', 'asinh', 'atan', 'atan2', 'atanh', 'ceil', 'comb', 'copysign', 'cos', 'cosh', 'degrees', 'dist', 'e', 'erf', 'erfc', 'exp', 'expm1', 'fabs', 'factorial', 'floor', 'fmod', 'frexp', 'fsum', 'gamma', 'gcd', 'hypot', 'inf', 'isclose', 'isfinite', 'isinf', 'isnan', 'isqrt', 'lcm', 'ldexp', 'lgamma', 'log', 'log10', 'log1p', 'log2', 'modf', 'nan', 'nextafter', 'perm', 'pi', 'pow', 'prod', 'radians', 'remainder', 'sin', 'sinh', 'sqrt', 'tan', 'tanh', 'tau', 'trunc', 'ulp']\n"
     ]
    }
   ],
   "source": [
    "# 72. Write a Python program to get the details of math module\n",
    "\n",
    "# Imports the math module\n",
    "import math            \n",
    "#Sets everything to a list of math module\n",
    "math_ls = dir(math) # \n",
    "print(math_ls)\n"
   ]
  },
  {
   "cell_type": "code",
   "execution_count": 12,
   "metadata": {},
   "outputs": [
    {
     "name": "stdout",
     "output_type": "stream",
     "text": [
      "Details of math module:\n",
      "\n",
      "Help on built-in module math:\n",
      "\n",
      "NAME\n",
      "    math\n",
      "\n",
      "DESCRIPTION\n",
      "    This module provides access to the mathematical functions\n",
      "    defined by the C standard.\n",
      "\n",
      "FUNCTIONS\n",
      "    acos(x, /)\n",
      "        Return the arc cosine (measured in radians) of x.\n",
      "        \n",
      "        The result is between 0 and pi.\n",
      "    \n",
      "    acosh(x, /)\n",
      "        Return the inverse hyperbolic cosine of x.\n",
      "    \n",
      "    asin(x, /)\n",
      "        Return the arc sine (measured in radians) of x.\n",
      "        \n",
      "        The result is between -pi/2 and pi/2.\n",
      "    \n",
      "    asinh(x, /)\n",
      "        Return the inverse hyperbolic sine of x.\n",
      "    \n",
      "    atan(x, /)\n",
      "        Return the arc tangent (measured in radians) of x.\n",
      "        \n",
      "        The result is between -pi/2 and pi/2.\n",
      "    \n",
      "    atan2(y, x, /)\n",
      "        Return the arc tangent (measured in radians) of y/x.\n",
      "        \n",
      "        Unlike atan(y/x), the signs of both x and y are considered.\n",
      "    \n",
      "    atanh(x, /)\n",
      "        Return the inverse hyperbolic tangent of x.\n",
      "    \n",
      "    ceil(x, /)\n",
      "        Return the ceiling of x as an Integral.\n",
      "        \n",
      "        This is the smallest integer >= x.\n",
      "    \n",
      "    comb(n, k, /)\n",
      "        Number of ways to choose k items from n items without repetition and without order.\n",
      "        \n",
      "        Evaluates to n! / (k! * (n - k)!) when k <= n and evaluates\n",
      "        to zero when k > n.\n",
      "        \n",
      "        Also called the binomial coefficient because it is equivalent\n",
      "        to the coefficient of k-th term in polynomial expansion of the\n",
      "        expression (1 + x)**n.\n",
      "        \n",
      "        Raises TypeError if either of the arguments are not integers.\n",
      "        Raises ValueError if either of the arguments are negative.\n",
      "    \n",
      "    copysign(x, y, /)\n",
      "        Return a float with the magnitude (absolute value) of x but the sign of y.\n",
      "        \n",
      "        On platforms that support signed zeros, copysign(1.0, -0.0)\n",
      "        returns -1.0.\n",
      "    \n",
      "    cos(x, /)\n",
      "        Return the cosine of x (measured in radians).\n",
      "    \n",
      "    cosh(x, /)\n",
      "        Return the hyperbolic cosine of x.\n",
      "    \n",
      "    degrees(x, /)\n",
      "        Convert angle x from radians to degrees.\n",
      "    \n",
      "    dist(p, q, /)\n",
      "        Return the Euclidean distance between two points p and q.\n",
      "        \n",
      "        The points should be specified as sequences (or iterables) of\n",
      "        coordinates.  Both inputs must have the same dimension.\n",
      "        \n",
      "        Roughly equivalent to:\n",
      "            sqrt(sum((px - qx) ** 2.0 for px, qx in zip(p, q)))\n",
      "    \n",
      "    erf(x, /)\n",
      "        Error function at x.\n",
      "    \n",
      "    erfc(x, /)\n",
      "        Complementary error function at x.\n",
      "    \n",
      "    exp(x, /)\n",
      "        Return e raised to the power of x.\n",
      "    \n",
      "    expm1(x, /)\n",
      "        Return exp(x)-1.\n",
      "        \n",
      "        This function avoids the loss of precision involved in the direct evaluation of exp(x)-1 for small x.\n",
      "    \n",
      "    fabs(x, /)\n",
      "        Return the absolute value of the float x.\n",
      "    \n",
      "    factorial(x, /)\n",
      "        Find x!.\n",
      "        \n",
      "        Raise a ValueError if x is negative or non-integral.\n",
      "    \n",
      "    floor(x, /)\n",
      "        Return the floor of x as an Integral.\n",
      "        \n",
      "        This is the largest integer <= x.\n",
      "    \n",
      "    fmod(x, y, /)\n",
      "        Return fmod(x, y), according to platform C.\n",
      "        \n",
      "        x % y may differ.\n",
      "    \n",
      "    frexp(x, /)\n",
      "        Return the mantissa and exponent of x, as pair (m, e).\n",
      "        \n",
      "        m is a float and e is an int, such that x = m * 2.**e.\n",
      "        If x is 0, m and e are both 0.  Else 0.5 <= abs(m) < 1.0.\n",
      "    \n",
      "    fsum(seq, /)\n",
      "        Return an accurate floating point sum of values in the iterable seq.\n",
      "        \n",
      "        Assumes IEEE-754 floating point arithmetic.\n",
      "    \n",
      "    gamma(x, /)\n",
      "        Gamma function at x.\n",
      "    \n",
      "    gcd(*integers)\n",
      "        Greatest Common Divisor.\n",
      "    \n",
      "    hypot(...)\n",
      "        hypot(*coordinates) -> value\n",
      "        \n",
      "        Multidimensional Euclidean distance from the origin to a point.\n",
      "        \n",
      "        Roughly equivalent to:\n",
      "            sqrt(sum(x**2 for x in coordinates))\n",
      "        \n",
      "        For a two dimensional point (x, y), gives the hypotenuse\n",
      "        using the Pythagorean theorem:  sqrt(x*x + y*y).\n",
      "        \n",
      "        For example, the hypotenuse of a 3/4/5 right triangle is:\n",
      "        \n",
      "            >>> hypot(3.0, 4.0)\n",
      "            5.0\n",
      "    \n",
      "    isclose(a, b, *, rel_tol=1e-09, abs_tol=0.0)\n",
      "        Determine whether two floating point numbers are close in value.\n",
      "        \n",
      "          rel_tol\n",
      "            maximum difference for being considered \"close\", relative to the\n",
      "            magnitude of the input values\n",
      "          abs_tol\n",
      "            maximum difference for being considered \"close\", regardless of the\n",
      "            magnitude of the input values\n",
      "        \n",
      "        Return True if a is close in value to b, and False otherwise.\n",
      "        \n",
      "        For the values to be considered close, the difference between them\n",
      "        must be smaller than at least one of the tolerances.\n",
      "        \n",
      "        -inf, inf and NaN behave similarly to the IEEE 754 Standard.  That\n",
      "        is, NaN is not close to anything, even itself.  inf and -inf are\n",
      "        only close to themselves.\n",
      "    \n",
      "    isfinite(x, /)\n",
      "        Return True if x is neither an infinity nor a NaN, and False otherwise.\n",
      "    \n",
      "    isinf(x, /)\n",
      "        Return True if x is a positive or negative infinity, and False otherwise.\n",
      "    \n",
      "    isnan(x, /)\n",
      "        Return True if x is a NaN (not a number), and False otherwise.\n",
      "    \n",
      "    isqrt(n, /)\n",
      "        Return the integer part of the square root of the input.\n",
      "    \n",
      "    lcm(*integers)\n",
      "        Least Common Multiple.\n",
      "    \n",
      "    ldexp(x, i, /)\n",
      "        Return x * (2**i).\n",
      "        \n",
      "        This is essentially the inverse of frexp().\n",
      "    \n",
      "    lgamma(x, /)\n",
      "        Natural logarithm of absolute value of Gamma function at x.\n",
      "    \n",
      "    log(...)\n",
      "        log(x, [base=math.e])\n",
      "        Return the logarithm of x to the given base.\n",
      "        \n",
      "        If the base not specified, returns the natural logarithm (base e) of x.\n",
      "    \n",
      "    log10(x, /)\n",
      "        Return the base 10 logarithm of x.\n",
      "    \n",
      "    log1p(x, /)\n",
      "        Return the natural logarithm of 1+x (base e).\n",
      "        \n",
      "        The result is computed in a way which is accurate for x near zero.\n",
      "    \n",
      "    log2(x, /)\n",
      "        Return the base 2 logarithm of x.\n",
      "    \n",
      "    modf(x, /)\n",
      "        Return the fractional and integer parts of x.\n",
      "        \n",
      "        Both results carry the sign of x and are floats.\n",
      "    \n",
      "    nextafter(x, y, /)\n",
      "        Return the next floating-point value after x towards y.\n",
      "    \n",
      "    perm(n, k=None, /)\n",
      "        Number of ways to choose k items from n items without repetition and with order.\n",
      "        \n",
      "        Evaluates to n! / (n - k)! when k <= n and evaluates\n",
      "        to zero when k > n.\n",
      "        \n",
      "        If k is not specified or is None, then k defaults to n\n",
      "        and the function returns n!.\n",
      "        \n",
      "        Raises TypeError if either of the arguments are not integers.\n",
      "        Raises ValueError if either of the arguments are negative.\n",
      "    \n",
      "    pow(x, y, /)\n",
      "        Return x**y (x to the power of y).\n",
      "    \n",
      "    prod(iterable, /, *, start=1)\n",
      "        Calculate the product of all the elements in the input iterable.\n",
      "        \n",
      "        The default start value for the product is 1.\n",
      "        \n",
      "        When the iterable is empty, return the start value.  This function is\n",
      "        intended specifically for use with numeric values and may reject\n",
      "        non-numeric types.\n",
      "    \n",
      "    radians(x, /)\n",
      "        Convert angle x from degrees to radians.\n",
      "    \n",
      "    remainder(x, y, /)\n",
      "        Difference between x and the closest integer multiple of y.\n",
      "        \n",
      "        Return x - n*y where n*y is the closest integer multiple of y.\n",
      "        In the case where x is exactly halfway between two multiples of\n",
      "        y, the nearest even value of n is used. The result is always exact.\n",
      "    \n",
      "    sin(x, /)\n",
      "        Return the sine of x (measured in radians).\n",
      "    \n",
      "    sinh(x, /)\n",
      "        Return the hyperbolic sine of x.\n",
      "    \n",
      "    sqrt(x, /)\n",
      "        Return the square root of x.\n",
      "    \n",
      "    tan(x, /)\n",
      "        Return the tangent of x (measured in radians).\n",
      "    \n",
      "    tanh(x, /)\n",
      "        Return the hyperbolic tangent of x.\n",
      "    \n",
      "    trunc(x, /)\n",
      "        Truncates the Real x to the nearest Integral toward 0.\n",
      "        \n",
      "        Uses the __trunc__ magic method.\n",
      "    \n",
      "    ulp(x, /)\n",
      "        Return the value of the least significant bit of the float x.\n",
      "\n",
      "DATA\n",
      "    e = 2.718281828459045\n",
      "    inf = inf\n",
      "    nan = nan\n",
      "    pi = 3.141592653589793\n",
      "    tau = 6.283185307179586\n",
      "\n",
      "FILE\n",
      "    (built-in)\n",
      "\n",
      "\n"
     ]
    }
   ],
   "source": [
    "import math\n",
    "print(\"Details of math module:\\n\")\n",
    "help(math)\n"
   ]
  },
  {
   "cell_type": "code",
   "execution_count": 13,
   "metadata": {},
   "outputs": [
    {
     "name": "stdout",
     "output_type": "stream",
     "text": [
      "\n",
      "Python Copyright Information\n",
      "Copyright (c) 2001-2021 Python Software Foundation.\n",
      "All Rights Reserved.\n",
      "\n",
      "Copyright (c) 2000 BeOpen.com.\n",
      "All Rights Reserved.\n",
      "\n",
      "Copyright (c) 1995-2001 Corporation for National Research Initiatives.\n",
      "All Rights Reserved.\n",
      "\n",
      "Copyright (c) 1991-1995 Stichting Mathematisch Centrum, Amsterdam.\n",
      "All Rights Reserved.\n",
      "\n"
     ]
    }
   ],
   "source": [
    "# 75. Write a Python program to get the copyright information and write Copyright information in Python code.\n",
    "\n",
    "import sys\n",
    "print(\"\\nPython Copyright Information\")\n",
    "print(sys.copyright)\n",
    "print()\n",
    "\n"
   ]
  },
  {
   "cell_type": "code",
   "execution_count": 16,
   "metadata": {},
   "outputs": [
    {
     "name": "stdout",
     "output_type": "stream",
     "text": [
      "_abc, _ast, _bisect, _blake2, _codecs, _codecs_cn, _codecs_hk,\n",
      "_codecs_iso2022, _codecs_jp, _codecs_kr, _codecs_tw, _collections,\n",
      "_contextvars, _csv, _datetime, _functools, _heapq, _imp, _io, _json,\n",
      "_locale, _lsprof, _md5, _multibytecodec, _opcode, _operator, _pickle,\n",
      "_random, _sha1, _sha256, _sha3, _sha512, _signal, _sre, _stat,\n",
      "_statistics, _string, _struct, _symtable, _thread, _tracemalloc,\n",
      "_warnings, _weakref, _winapi, _xxsubinterpreters, array, atexit,\n",
      "audioop, binascii, builtins, cmath, errno, faulthandler, gc,\n",
      "itertools, marshal, math, mmap, msvcrt, nt, sys, time, winreg,\n",
      "xxsubtype, zlib\n"
     ]
    }
   ],
   "source": [
    "# 78. Write a Python program to find the available built-in modules.\n",
    "\n",
    "import sys\n",
    "import textwrap\n",
    "module_name = ', '.join(sorted(sys.builtin_module_names))\n",
    "print(textwrap.fill(module_name, width=70))\n"
   ]
  },
  {
   "cell_type": "code",
   "execution_count": 17,
   "metadata": {},
   "outputs": [
    {
     "name": "stdout",
     "output_type": "stream",
     "text": [
      "Size of  one = 52 bytes\n",
      "Size of  four = 53 bytes\n",
      "Size of  three = 54 bytes\n",
      "Size of 0 = 24 bytes\n",
      "Size of 112 =28 bytes\n",
      "Size of [1, 2, 3, 'Red', 'Black'] = 120  bytes\n",
      "Size of ('Red', [8, 4, 6], (1, 2, 3)) = 64  bytes\n",
      "Size of {'pear', 'apple', 'orange'} = 216  bytes\n",
      "Size of {'Name': 'David', 'Age': 6, 'Class': 'First'} = 216  bytes\n"
     ]
    }
   ],
   "source": [
    "# 79. Write a Python program to get the size of an object in bytes.\n",
    "\n",
    "import sys\n",
    "str1 = \"one\"\n",
    "str2 = \"four\"\n",
    "str3 = \"three\"\n",
    "x = 0\n",
    "y = 112\n",
    "z = 122.56\n",
    "\n",
    "\n",
    "print(\"Size of \",str1,\"=\",str(sys.getsizeof(str1))+ \" bytes\")\n",
    "print(\"Size of \",str2,\"=\",str(sys.getsizeof(str2))+ \" bytes\")\n",
    "print(\"Size of \",str3,\"=\",str(sys.getsizeof(str3))+ \" bytes\")\n",
    "print(\"Size of\",x,\"=\",str(sys.getsizeof(x))+ \" bytes\")\n",
    "print(\"Size of\" ,y,\"=\"+str(sys.getsizeof(y))+ \" bytes\")\n",
    "\n",
    "\n",
    "L = [1, 2, 3, 'Red', 'Black']\n",
    "print(\"Size of\",L,\"=\",sys.getsizeof(L),\" bytes\")\n",
    "\n",
    "T = (\"Red\", [8, 4, 6], (1, 2, 3))\n",
    "print(\"Size of\",T,\"=\",sys.getsizeof(T),\" bytes\")\n",
    "\n",
    "S = {'apple', 'orange', 'apple', 'pear'}\n",
    "print(\"Size of\",S,\"=\",sys.getsizeof(S),\" bytes\")\n",
    "\n",
    "D = {'Name': 'David', 'Age': 6, 'Class': 'First'}\n",
    "print(\"Size of\",D,\"=\",sys.getsizeof(S),\" bytes\")\n"
   ]
  },
  {
   "cell_type": "code",
   "execution_count": 18,
   "metadata": {},
   "outputs": [
    {
     "name": "stdout",
     "output_type": "stream",
     "text": [
      "\n",
      "Current value of the recursion limit:\n",
      "3000\n",
      "\n"
     ]
    }
   ],
   "source": [
    "# 80. Write a Python program to get the current value of the recursion limit.\n",
    "\n",
    "import sys\n",
    "print()\n",
    "print(\"Current value of the recursion limit:\")\n",
    "print(sys.getrecursionlimit())\n",
    "print()\n"
   ]
  },
  {
   "cell_type": "code",
   "execution_count": 19,
   "metadata": {},
   "outputs": [
    {
     "name": "stdout",
     "output_type": "stream",
     "text": [
      "\n",
      "All Colors: Red-White-Black\n",
      "\n"
     ]
    }
   ],
   "source": [
    "# 81. Write a Python program to concatenate N strings.\n",
    "\n",
    "list_of_colors = ['Red', 'White', 'Black']  \n",
    "colors = '-'.join(list_of_colors)\n",
    "print()\n",
    "print(\"All Colors: \"+colors)\n",
    "print()\n"
   ]
  },
  {
   "cell_type": "code",
   "execution_count": 20,
   "metadata": {},
   "outputs": [
    {
     "name": "stdout",
     "output_type": "stream",
     "text": [
      "Original container:\n",
      "{'a': 100, 'b': 200, 'c': 300, 'd': 120}\n",
      "<class 'dict'>\n",
      "Sum of all items of the said container: 720\n"
     ]
    }
   ],
   "source": [
    "# 82. Write a Python program to calculate the sum of all items of a container (tuple, list, set, dictionary).\n",
    "\n",
    "def dict_sum(nums):     \n",
    "   num_sum = 0\n",
    "   for i in nums:\n",
    "       num_sum = num_sum + nums[i]     \n",
    "   return num_sum\n",
    "nums = {'a': 100, 'b':200, 'c':300, 'd':120}\n",
    "print(\"Original container:\")\n",
    "print(nums)\n",
    "print(type(nums))\n",
    "print(\"Sum of all items of the said container:\", dict_sum(nums))\n"
   ]
  },
  {
   "cell_type": "code",
   "execution_count": 21,
   "metadata": {},
   "outputs": [
    {
     "name": "stdout",
     "output_type": "stream",
     "text": [
      "Original list numbers:\n",
      "[10, 20, 30, 40, 50, 60, 70, 80, 90, 100]\n",
      "\n",
      "Check whether all numbers of the said list greater than 12\n",
      "False\n",
      "\n",
      "Check whether all numbers of the said list greater than 5\n",
      "True\n"
     ]
    }
   ],
   "source": [
    "# 83. Write a Python program to test whether all numbers of a list is greater than a certain number.\n",
    "\n",
    "def test(nums, n):\n",
    "   return(all(x > n for x in nums))\n",
    "\n",
    "\n",
    "nums = [10, 20, 30, 40, 50, 60, 70, 80, 90, 100]\n",
    "\n",
    "print(\"Original list numbers:\")\n",
    "print(nums)\n",
    "\n",
    "n = 12\n",
    "print(\"\\nCheck whether all numbers of the said list greater than\",n)\n",
    "print(test(nums, n))\n",
    "\n",
    "n = 5\n",
    "print(\"\\nCheck whether all numbers of the said list greater than\",n)\n",
    "print(test(nums, n))\n"
   ]
  },
  {
   "cell_type": "code",
   "execution_count": null,
   "metadata": {},
   "outputs": [],
   "source": []
  }
 ],
 "metadata": {
  "interpreter": {
   "hash": "7b0470897870f91c1d27568bf8346e85da46866cae942d918bd7f2b2e94e9a5a"
  },
  "kernelspec": {
   "display_name": "Python 3.10.0 64-bit",
   "language": "python",
   "name": "python3"
  },
  "language_info": {
   "codemirror_mode": {
    "name": "ipython",
    "version": 3
   },
   "file_extension": ".py",
   "mimetype": "text/x-python",
   "name": "python",
   "nbconvert_exporter": "python",
   "pygments_lexer": "ipython3",
   "version": "3.10.0"
  },
  "orig_nbformat": 4
 },
 "nbformat": 4,
 "nbformat_minor": 2
}
