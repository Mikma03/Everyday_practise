{
 "cells": [
  {
   "cell_type": "code",
   "execution_count": 1,
   "metadata": {},
   "outputs": [
    {
     "name": "stdout",
     "output_type": "stream",
     "text": [
      "Original string:\n",
      "The quick brown fox jumps over the lazy dog.\n",
      "Number of occurrence of 'o' in the said string:\n",
      "4\n"
     ]
    }
   ],
   "source": [
    "# 84. Write a Python program to count the number occurrence of a specific character in a string.\n",
    "\n",
    "example_str = \"The quick brown fox jumps over the lazy dog.\"  \n",
    "print(\"Original string:\")\n",
    "print(example_str)\n",
    "print(\"Number of occurrence of 'o' in the said string:\")\n",
    "\n",
    "ctr = 0\n",
    "for strings in example_str:\n",
    "    if strings == \"o\":\n",
    "        ctr += 1\n",
    "\n",
    "print(ctr)"
   ]
  },
  {
   "cell_type": "code",
   "execution_count": 2,
   "metadata": {},
   "outputs": [
    {
     "name": "stdout",
     "output_type": "stream",
     "text": [
      "Original string:\n",
      "The quick brown fox jumps over the lazy dog.\n",
      "Number of occurrence of 'o' in the said string:\n",
      "4\n"
     ]
    }
   ],
   "source": [
    "from collections import Counter\n",
    "\n",
    "s = \"The quick brown fox jumps over the lazy dog.\"  \n",
    "\n",
    "print(\"Original string:\")\n",
    "print(s)\n",
    "print(\"Number of occurrence of 'o' in the said string:\")\n",
    "\n",
    "ctr = Counter(s) \n",
    "print(str(ctr['o']))\n"
   ]
  },
  {
   "cell_type": "code",
   "execution_count": 3,
   "metadata": {},
   "outputs": [
    {
     "name": "stdout",
     "output_type": "stream",
     "text": [
      "It is a special file (socket, FIFO, device file)\n",
      "\n"
     ]
    }
   ],
   "source": [
    "# 85. Write a Python program to check whether a file path is a file or a directory.\n",
    "\n",
    "import os\n",
    "\n",
    "path = '10_next.ipynb'\n",
    "\n",
    "if os.path.isdir(path):\n",
    "    print(\"\\nIt is a directory\")\n",
    "elif os.path.isdir(path):\n",
    "    print(\"\\nIt is a normal file\")\n",
    "else:  \n",
    "    print(\"It is a special file (socket, FIFO, device file)\" )\n",
    "print()\n"
   ]
  },
  {
   "cell_type": "code",
   "execution_count": 4,
   "metadata": {},
   "outputs": [
    {
     "name": "stdout",
     "output_type": "stream",
     "text": [
      "97\n",
      "65\n",
      "49\n",
      "64\n"
     ]
    }
   ],
   "source": [
    "# 86. Write a Python program to get the ASCII value of a character.\n",
    "\n",
    "print(ord('a'))\n",
    "print(ord('A'))\n",
    "print(ord('1'))\n",
    "print(ord('@'))"
   ]
  },
  {
   "cell_type": "code",
   "execution_count": 5,
   "metadata": {},
   "outputs": [
    {
     "name": "stdout",
     "output_type": "stream",
     "text": [
      "\n",
      "The size of abc.txt is : 82004 Bytes\n"
     ]
    }
   ],
   "source": [
    "# 87. Write a Python program to get the size of a file\n",
    "\n",
    "import os\n",
    "file_size = os.path.getsize('09_next.ipynb')\n",
    "print(\"\\nThe size of abc.txt is :\",file_size,\"Bytes\")"
   ]
  },
  {
   "cell_type": "code",
   "execution_count": 8,
   "metadata": {},
   "outputs": [
    {
     "name": "stdout",
     "output_type": "stream",
     "text": [
      "\n",
      "Before swap a = 30 and b = 20\n",
      "\n",
      "After swaping a = 20 and b = 30\n",
      "\n"
     ]
    }
   ],
   "source": [
    "# 91. Write a Python program to swap two variables.\n",
    "\n",
    "a = 30\n",
    "b = 20\n",
    "print(\"\\nBefore swap a = %d and b = %d\" %(a, b))\n",
    "a, b = b, a\n",
    "print(\"\\nAfter swaping a = %d and b = %d\" %(a, b))\n",
    "print()\n",
    "\n"
   ]
  },
  {
   "cell_type": "code",
   "execution_count": 1,
   "metadata": {},
   "outputs": [
    {
     "name": "stdout",
     "output_type": "stream",
     "text": [
      "\n",
      "Identity:  34\n",
      "\n",
      "Type:  <class 'int'>\n",
      "\n",
      "Value:  2061212976400\n"
     ]
    }
   ],
   "source": [
    "# 93. Write a Python program to get the Identity, Type, and Value of an object.\n",
    "\n",
    "x = 34\n",
    "print(\"\\nIdentity: \",x)\n",
    "print(\"\\nType: \",type(x))\n",
    "print(\"\\nValue: \",id(x))\n"
   ]
  },
  {
   "cell_type": "code",
   "execution_count": 2,
   "metadata": {},
   "outputs": [
    {
     "name": "stdout",
     "output_type": "stream",
     "text": [
      "a =  34\n",
      "b =  33\n",
      "Compare a and b:\n",
      "False\n",
      "\n",
      "Memory address of a:\n",
      "2061212976400\n",
      "Memory address of b:\n",
      "2061212976368\n",
      "\n",
      "Compare the said memory address:\n",
      "False\n",
      "\n",
      "Compare b and c:\n",
      "False\n",
      "Memory address of c:\n",
      "2061212976400\n"
     ]
    }
   ],
   "source": [
    "#Define two variables with some values\n",
    "a = 34\n",
    "b = 33\n",
    "print('a = ',a)\n",
    "print('b = ',b)\n",
    "#Define another vairable c which is equal to a\n",
    "c = a\n",
    "print(\"Compare a and b:\")\n",
    "print(a is b)\n",
    "print(\"\\nMemory address of a:\")\n",
    "print(id(a))\n",
    "print(\"Memory address of b:\")\n",
    "print(id(b))\n",
    "print(\"\\nCompare the said memory address:\")\n",
    "print(id(a) == id(b))\n",
    "print(\"\\nCompare b and c:\")\n",
    "print(b is c)\n",
    "print(\"Memory address of c:\")\n",
    "print(id(c))\n"
   ]
  },
  {
   "cell_type": "code",
   "execution_count": 4,
   "metadata": {},
   "outputs": [
    {
     "name": "stdout",
     "output_type": "stream",
     "text": [
      "\n",
      "\n",
      "Convert bytes of the said string to a list of integers:\n",
      "[65, 98, 99, 106, 101, 115, 100]\n",
      "\n"
     ]
    }
   ],
   "source": [
    "# 94. Write a Python program to convert a byte string to a list of integers.\n",
    "\n",
    "x = b'Abcjesd'\n",
    "print()\n",
    "print(\"\\nConvert bytes of the said string to a list of integers:\")\n",
    "print(list(x))\n",
    "print()\n"
   ]
  },
  {
   "cell_type": "code",
   "execution_count": 5,
   "metadata": {},
   "outputs": [
    {
     "name": "stdout",
     "output_type": "stream",
     "text": [
      "\n",
      "Not numeric\n",
      "\n"
     ]
    }
   ],
   "source": [
    "# 95. Write a Python program to check whether a string is numeric.\n",
    "\n",
    "str = 'a123'\n",
    "#str = '123'\n",
    "try:\n",
    "    i = float(str)\n",
    "except (ValueError, TypeError):\n",
    "    print('\\nNot numeric')\n",
    "print()\n"
   ]
  },
  {
   "cell_type": "code",
   "execution_count": 6,
   "metadata": {},
   "outputs": [
    {
     "name": "stderr",
     "output_type": "stream",
     "text": [
      "  File \"C:\\Users\\mikol\\AppData\\Local\\Programs\\Python\\Python310\\lib\\runpy.py\", line 196, in _run_module_as_main\n",
      "    return _run_code(code, main_globals, None,\n",
      "  File \"C:\\Users\\mikol\\AppData\\Local\\Programs\\Python\\Python310\\lib\\runpy.py\", line 86, in _run_code\n",
      "    exec(code, run_globals)\n",
      "  File \"C:\\Users\\mikol\\AppData\\Local\\Programs\\Python\\Python310\\lib\\site-packages\\ipykernel_launcher.py\", line 16, in <module>\n",
      "    app.launch_new_instance()\n",
      "  File \"C:\\Users\\mikol\\AppData\\Local\\Programs\\Python\\Python310\\lib\\site-packages\\traitlets\\config\\application.py\", line 846, in launch_instance\n",
      "    app.start()\n",
      "  File \"C:\\Users\\mikol\\AppData\\Local\\Programs\\Python\\Python310\\lib\\site-packages\\ipykernel\\kernelapp.py\", line 677, in start\n",
      "    self.io_loop.start()\n",
      "  File \"C:\\Users\\mikol\\AppData\\Local\\Programs\\Python\\Python310\\lib\\site-packages\\tornado\\platform\\asyncio.py\", line 199, in start\n",
      "    self.asyncio_loop.run_forever()\n",
      "  File \"C:\\Users\\mikol\\AppData\\Local\\Programs\\Python\\Python310\\lib\\asyncio\\base_events.py\", line 595, in run_forever\n",
      "    self._run_once()\n",
      "  File \"C:\\Users\\mikol\\AppData\\Local\\Programs\\Python\\Python310\\lib\\asyncio\\base_events.py\", line 1881, in _run_once\n",
      "    handle._run()\n",
      "  File \"C:\\Users\\mikol\\AppData\\Local\\Programs\\Python\\Python310\\lib\\asyncio\\events.py\", line 80, in _run\n",
      "    self._context.run(self._callback, *self._args)\n",
      "  File \"C:\\Users\\mikol\\AppData\\Local\\Programs\\Python\\Python310\\lib\\site-packages\\ipykernel\\kernelbase.py\", line 457, in dispatch_queue\n",
      "    await self.process_one()\n",
      "  File \"C:\\Users\\mikol\\AppData\\Local\\Programs\\Python\\Python310\\lib\\site-packages\\ipykernel\\kernelbase.py\", line 446, in process_one\n",
      "    await dispatch(*args)\n",
      "  File \"C:\\Users\\mikol\\AppData\\Local\\Programs\\Python\\Python310\\lib\\site-packages\\ipykernel\\kernelbase.py\", line 353, in dispatch_shell\n",
      "    await result\n",
      "  File \"C:\\Users\\mikol\\AppData\\Local\\Programs\\Python\\Python310\\lib\\site-packages\\ipykernel\\kernelbase.py\", line 648, in execute_request\n",
      "    reply_content = await reply_content\n",
      "  File \"C:\\Users\\mikol\\AppData\\Local\\Programs\\Python\\Python310\\lib\\site-packages\\ipykernel\\ipkernel.py\", line 353, in do_execute\n",
      "    res = shell.run_cell(code, store_history=store_history, silent=silent)\n",
      "  File \"C:\\Users\\mikol\\AppData\\Local\\Programs\\Python\\Python310\\lib\\site-packages\\ipykernel\\zmqshell.py\", line 533, in run_cell\n",
      "    return super(ZMQInteractiveShell, self).run_cell(*args, **kwargs)\n",
      "  File \"C:\\Users\\mikol\\AppData\\Local\\Programs\\Python\\Python310\\lib\\site-packages\\IPython\\core\\interactiveshell.py\", line 2914, in run_cell\n",
      "    result = self._run_cell(\n",
      "  File \"C:\\Users\\mikol\\AppData\\Local\\Programs\\Python\\Python310\\lib\\site-packages\\IPython\\core\\interactiveshell.py\", line 2960, in _run_cell\n",
      "    return runner(coro)\n",
      "  File \"C:\\Users\\mikol\\AppData\\Local\\Programs\\Python\\Python310\\lib\\site-packages\\IPython\\core\\async_helpers.py\", line 68, in _pseudo_sync_runner\n",
      "    coro.send(None)\n",
      "  File \"C:\\Users\\mikol\\AppData\\Local\\Programs\\Python\\Python310\\lib\\site-packages\\IPython\\core\\interactiveshell.py\", line 3185, in run_cell_async\n",
      "    has_raised = await self.run_ast_nodes(code_ast.body, cell_name,\n",
      "  File \"C:\\Users\\mikol\\AppData\\Local\\Programs\\Python\\Python310\\lib\\site-packages\\IPython\\core\\interactiveshell.py\", line 3377, in run_ast_nodes\n",
      "    if (await self.run_code(code, result,  async_=asy)):\n",
      "  File \"C:\\Users\\mikol\\AppData\\Local\\Programs\\Python\\Python310\\lib\\site-packages\\IPython\\core\\interactiveshell.py\", line 3457, in run_code\n",
      "    exec(code_obj, self.user_global_ns, self.user_ns)\n",
      "  File \"C:\\Users\\mikol\\AppData\\Local\\Temp/ipykernel_18304/4186296564.py\", line 8, in <module>\n",
      "    f1()\n",
      "  File \"C:\\Users\\mikol\\AppData\\Local\\Temp/ipykernel_18304/4186296564.py\", line 5, in f1\n",
      "    def f1(): return abc()\n",
      "  File \"C:\\Users\\mikol\\AppData\\Local\\Temp/ipykernel_18304/4186296564.py\", line 6, in abc\n",
      "    def abc(): traceback.print_stack()\n"
     ]
    }
   ],
   "source": [
    "# 96. Write a Python program to print the current call stack.\n",
    "\n",
    "import traceback\n",
    "\n",
    "def f1(): return abc()\n",
    "def abc(): traceback.print_stack()\n",
    "\n",
    "f1()"
   ]
  },
  {
   "cell_type": "code",
   "execution_count": 7,
   "metadata": {},
   "outputs": [
    {
     "name": "stdout",
     "output_type": "stream",
     "text": [
      "\n",
      "ArithmeticError AssertionError AttributeError BaseException BlockingIOError BrokenPipeError BufferError BytesWarning\n",
      "ChildProcessError ConnectionAbortedError ConnectionError ConnectionRefusedError ConnectionResetError DeprecationWarning EOFError Ellipsis\n",
      "EncodingWarning EnvironmentError Exception False FileExistsError FileNotFoundError FloatingPointError FutureWarning\n",
      "GeneratorExit IOError ImportError ImportWarning In IndentationError IndexError InterruptedError\n",
      "IsADirectoryError KeyError KeyboardInterrupt LookupError MemoryError ModuleNotFoundError NameError None\n",
      "NotADirectoryError NotImplemented NotImplementedError OSError Out OverflowError PendingDeprecationWarning PermissionError\n",
      "ProcessLookupError RecursionError ReferenceError ResourceWarning RuntimeError RuntimeWarning StopAsyncIteration StopIteration\n",
      "SyntaxError SyntaxWarning SystemError SystemExit TabError TimeoutError True TypeError\n",
      "UnboundLocalError UnicodeDecodeError UnicodeEncodeError UnicodeError UnicodeTranslateError UnicodeWarning UserWarning ValueError\n",
      "Warning WindowsError ZeroDivisionError __ __IPYTHON__ ___ __build_class__ __builtin__\n",
      "__builtins__ __debug__ __doc__ __import__ __loader__ __name__ __package__ __spec__\n",
      "__vsc_ipynb_file__ _dh _i _i1 _i2 _i3 _i4 _i5\n",
      "_i6 _i7 _ih _ii _iii _oh a abc\n",
      "abs aiter all anext any ascii b bin\n",
      "bool breakpoint bytearray bytes c callable chr classmethod\n",
      "compile complex copyright credits delattr dict dir display\n",
      "divmod enumerate eval exec execfile exit f1 filter\n",
      "float format frozenset get_ipython getattr globals hasattr hash\n",
      "help hex id input int isinstance issubclass iter\n",
      "len license list locals map max memoryview min\n",
      "next object oct open ord os pow print\n",
      "property quit range repr reversed round runfile set\n",
      "setattr site slice sorted staticmethod str sum super\n",
      "sys traceback tuple type vars x zip\n",
      "\n"
     ]
    }
   ],
   "source": [
    "# 97. Write a Python program to list the special variables used within the language.\n",
    "\n",
    "s_var_names = sorted((set(globals().keys()) | set(__builtins__.__dict__.keys())) - set('_ names i'.split()))\n",
    "print()\n",
    "print( '\\n'.join(' '.join(s_var_names[i:i+8]) for i in range(0, len(s_var_names), 8)) )\n",
    "print()\n"
   ]
  },
  {
   "cell_type": "code",
   "execution_count": 1,
   "metadata": {},
   "outputs": [
    {
     "name": "stdout",
     "output_type": "stream",
     "text": [
      "Mon Apr 11 20:11:58 2022\n"
     ]
    }
   ],
   "source": [
    "# 98. Write a Python program to get the system time.\n",
    "\n",
    "import time\n",
    "print(time.ctime())"
   ]
  },
  {
   "cell_type": "code",
   "execution_count": 2,
   "metadata": {},
   "outputs": [
    {
     "name": "stdout",
     "output_type": "stream",
     "text": [
      "2022-04-11 20:12:30.730183\n"
     ]
    }
   ],
   "source": [
    "import datetime\n",
    "print(datetime.datetime.now())"
   ]
  },
  {
   "cell_type": "code",
   "execution_count": 3,
   "metadata": {},
   "outputs": [
    {
     "name": "stdout",
     "output_type": "stream",
     "text": [
      "host name: DESKTOP-UPA4L3K\n"
     ]
    }
   ],
   "source": [
    "# 100. Write a Python program to get the name of the host on which the routine is running.\n",
    "\n",
    "import socket\n",
    "\n",
    "host_name = socket.gethostname()\n",
    "print(f'host name: {host_name}')"
   ]
  },
  {
   "cell_type": "code",
   "execution_count": 4,
   "metadata": {},
   "outputs": [
    {
     "name": "stdout",
     "output_type": "stream",
     "text": [
      "Host name: DESKTOP-UPA4L3K\n"
     ]
    }
   ],
   "source": [
    "import platform\n",
    "host_name = platform.uname()[1]\n",
    "print(\"Host name:\", host_name )\n"
   ]
  },
  {
   "cell_type": "code",
   "execution_count": 6,
   "metadata": {},
   "outputs": [
    {
     "name": "stdout",
     "output_type": "stream",
     "text": [
      "<!DOCTYPE html><html lang=\"pl\" dir=\"ltr\"><head><style nonce=\"RpEGSXvlbdgqDPMXQ4kuiw\">\n",
      "a, a:link, a:visited, a:active, a:hover {\n",
      "  color: #1a73e8;\n",
      "  text-decoration: none;\n",
      "}\n",
      "body {\n",
      "  font-family: Roboto,RobotoDraft,Helvetica,Arial,sans-serif;\n",
      "  text-align: center;\n",
      "  -ms-text-size-adjust: 100%;\n",
      "  -moz-text-size-adjust: 100%;\n",
      "  -webkit-text-size-adjust: 100%;\n",
      "}\n",
      ".box {\n",
      "  border: 1px solid #dadce0;\n",
      "  box-sizing: border-box;\n",
      "  border-radius: 8px;\n",
      "  margin: 24px auto 5px auto;\n",
      "  max-width: 520px;\n",
      "  padding: 24px;\n",
      "}\n",
      "h1 {\n",
      "  color: #2c2c2c;\n",
      "  font-size: 24px;\n",
      "  hyphens: auto;\n",
      "  margin: 24px 0;\n",
      "}\n",
      "p, .sub, .contentText {\n",
      "  color: #5f6368;;\n",
      "  font-size: 14px;\n",
      "  line-height: 20px;\n",
      "  letter-spacing: 0.2px;\n",
      "  text-align: left;\n",
      "}\n",
      ".signin {\n",
      "  text-align: right;\n",
      "}\n",
      ".image {\n",
      "  display: block;\n",
      "  margin: 14px auto;\n",
      "}\n",
      ".basebutton {\n",
      "  border-radius: 4px;\n",
      "  cursor: pointer;\n",
      "  font-family: Roboto,RobotoDraft,Helvetica,Arial,sans-serif;\n",
      "  font-size: 14px;\n",
      "  font-weight: 500;\n",
      "  height: 36px;\n",
      "  margin: 12px 4px 0;\n",
      "  padding: 10px 24px;\n",
      "}\n",
      "a.button {\n",
      "  color: #fff;\n",
      "}\n",
      "button, .button {\n",
      "  background-color: #1a73e8;\n",
      "  border: none;\n",
      "  color: #fff;\n",
      "}\n",
      "input.button {\n",
      "  -webkit-appearance: none;\n",
      "}\n",
      ".error {\n",
      "  border: 2px solid #d93025;\n",
      "  border-radius: 5px;\n",
      "  color: #d93025;\n",
      "  margin: auto;\n",
      "  padding: 5px;\n",
      "}\n",
      ".footer {\n",
      "  margin-top: 16px;\n",
      "}\n",
      ".footer a {\n",
      "  margin-left: 24px;\n",
      "  white-space: nowrap;\n",
      "}\n",
      ".footer a, .footer select, .footer input {\n",
      "  color: #757575;\n",
      "  font-size: 12px;\n",
      "}\n",
      ".languagepicker {\n",
      "  display: inline-flex;\n",
      "  margin: 2px 0;\n",
      "}\n",
      "#languageform,\n",
      "#languageselect {\n",
      "  margin: 0 2px;\n",
      "}\n",
      "#languageselect {\n",
      "  color: #757575;\n",
      "}\n",
      ".detailspage {\n",
      "  margin: 24px auto 0 auto;\n",
      "  max-width: 700px;\n",
      "}\n",
      ".detailspage h1, .detailspage h2 {\n",
      "  font-size: 22px\n",
      "}\n",
      ".setting {\n",
      "  border: 1px solid #dadce0;\n",
      "  box-sizing: border-box;\n",
      "  border-radius: 8px;\n",
      "  margin-bottom: 11px;\n",
      "  padding: 24px 24px 20px 24px;\n",
      "  text-align: right;\n",
      "}\n",
      ".sub {\n",
      "  padding: 24px 24px 20px 24px;\n",
      "}\n",
      "hr {\n",
      "  margin: 12px -24px 12px;\n",
      "  border: 0;\n",
      "  border-top: 1px solid #dadce0;\n",
      "}\n",
      "fieldset {\n",
      "  border: none;\n",
      "  padding: 0;\n",
      "}\n",
      "label {\n",
      "  margin: 24px;\n",
      "}\n",
      "td {\n",
      "  vertical-align: top;\n",
      "}\n",
      ".setting h2, .setting h3, h4 {\n",
      "  color: #3c4043;\n",
      "  margin: 0;\n",
      "  text-align: left;\n",
      "}\n",
      ".yt-text {\n",
      "  color: #5f6368;\n",
      "  font-size: 14px;\n",
      "  font-weight: 300;\n",
      "}\n",
      ".productLogoContainer {\n",
      "  margin: auto;\n",
      "  max-width: 360px;\n",
      "}\n",
      "\n",
      "/** Narrow screen (for example a mobile device). */\n",
      "@media only screen and (max-width: 480px) {\n",
      "  body {\n",
      "    margin: 18px 14px;\n",
      "  }\n",
      "  .imgContainer {\n",
      "    min-width: 96px;\n",
      "  }\n",
      "  .hideOnSmallWidth {\n",
      "    display: none;\n",
      "  }\n",
      "  .footer form {\n",
      "    margin-bottom: 3px;\n",
      "  }\n",
      "}\n",
      "\n",
      "@media only screen and (max-width: 380px) {\n",
      "  .imgContainer {\n",
      "    min-width: 72px;\n",
      "  }\n",
      "}\n",
      "\n",
      "/** Normal/non-narrow screen. */\n",
      "@media not screen and (max-width: 480px) {\n",
      "  body {\n",
      "    margin: 18px 25px;\n",
      "  }\n",
      "  .imgContainer {\n",
      "    width: 51%;\n",
      "  }\n",
      "  .hideOnNormalWidth {\n",
      "    display: none;\n",
      "  }\n",
      "  .footer form {\n",
      "    display: inline;\n",
      "  }\n",
      "}\n",
      "</style><title>Zanim przejdziesz do wyszukiwarki Google</title><meta name=\"viewport\" content=\"initial-scale=1, maximum-scale=5, width=device-width\"><link rel=\"shortcut icon\" href=\"//www.google.com/favicon.ico\"></head><body><div class=\"signin\"><a href=\"https://accounts.google.com/ServiceLogin?hl=pl&amp;continue=https://www.google.com/&amp;gae=cb-none\" class=\"basebutton button\">Zaloguj się</a></div><div class=\"box\"><img src=\"//www.gstatic.com/images/branding/googlelogo/1x/googlelogo_color_68x28dp.png\" srcset=\"//www.gstatic.com/images/branding/googlelogo/2x/googlelogo_color_68x28dp.png 2x\" width=\"68\" height=\"28\" alt=\"Google\"><div class=\"productLogoContainer\"><img src=\"https://www.gstatic.com/ac/cb/scene_cookie_wall_search_v2.svg\" alt=\"\" width=\"100%\" height=\"100%\" class=\"image\" aria-hidden=\"true\"></div><h1>Zanim przejdziesz do wyszukiwarki Google</h1><div class=\"contentText\">Google wykorzystuje <a href=\"https://policies.google.com/technologies/cookies?hl=pl&utm_source=ucb\" target=\"_blank\">pliki cookie</a> i inne dane do:<ul><li>dostarczania i utrzymywania usług, na przykład do śledzenia przerw w ich działaniu lub do ochrony użytkowników przed spamem, oszustwami i nadużyciami;</li><li>pomiaru zaangażowania odbiorców i generowania statystyk na temat witryn w celu lepszego zrozumienia, jak są używane usługi Google.</li></ul>Jeśli się na to zgodzisz, pliki cookie i inne dane będziemy wykorzystywać także do:<ul><li>poprawiania jakości obecnych usług i opracowywania nowych;</li><li>wyświetlania reklam i mierzenia ich skuteczności;</li><li>wyświetlania spersonalizowanych treści (w zależności od Twoich ustawień);</li><li>wyświetlania spersonalizowanych lub niespersonalizowanych reklam (w zależności od Twoich ustawień) w usługach Google i w innych miejscach w internecie.</li></ul>Reklamy i treści niespersonalizowane mogą być dobierane na podstawie czynników takich jak aktualnie przeglądane treści czy Twoja lokalizacja (wyświetlanie reklam jest oparte na przybliżonej lokalizacji). Reklamy i treści spersonalizowane również są dobierane według tych czynników oraz dodatkowo na podstawie Twojej aktywności, na przykład haseł wyszukiwanych w Google czy filmów oglądanych w YouTube. Reklamy i treści spersonalizowane to między innymi trafniejsze wyniki i rekomendacje, indywidualna strona główna w YouTube oraz reklamy dopasowane do Twoich zainteresowań.<p>Jeśli chcesz przejrzeć dostępne możliwości, w tym opcje rezygnacji z plików cookie używanych do personalizacji lub informacje o opcjach na poziomie przeglądarki pozwalających zrezygnować z niektórych lub wszystkich plików cookie używanych w innych celach, kliknij „Dostosuj”. W każdej chwili możesz też wejść na stronę g.co/privacytools.</p></div><div><a href=\"https://consent.google.com/dl?continue=https://www.google.com/&amp;gl=PL&amp;hl=pl&amp;pc=shp&amp;uxe=none&amp;src=1\" class=\"basebutton button\">Dostosuj</a><form action=\"https://consent.google.com/s\" method=\"POST\" style=\"display:inline;\"><input type=\"hidden\" name=\"gl\" value=\"PL\"><input type=\"hidden\" name=\"m\" value=\"0\"><input type=\"hidden\" name=\"pc\" value=\"shp\"><input type=\"hidden\" name=\"continue\" value=\"https://www.google.com/\"><input type=\"hidden\" name=\"ca\" value=\"r\"><input type=\"hidden\" name=\"x\" value=\"8\"><input type=\"hidden\" name=\"v\" value=\"cb.20220405-10-p0.pl+FX+695\"><input type=\"hidden\" name=\"t\" value=\"ADw3F8ifVMtjQ6qYjflT4Hb0D_GR0Vuyjg:1649700911438\"><input type=\"hidden\" name=\"hl\" value=\"pl\"><input type=\"hidden\" name=\"src\" value=\"1\"><input type=\"hidden\" name=\"uxe\" value=\"none\"><input type=\"submit\" value=\"Zgadzam się\" class=\"basebutton button\" aria-label=\"Zgadzasz się na wykorzystanie plików cookie i innych danych do opisanych celów\"/></form></div></div><div class=\"footer\"><form action=\"https://consent.google.com/ml\" method=\"get\"><select id=\"languageselect\" name=\"hl\"><option value=\"af\">Afrikaans</option><option value=\"az\">azərbaycan</option><option value=\"bs\">bosanski</option><option value=\"ca\">català</option><option value=\"cs\">Čeština</option><option value=\"cy\">Cymraeg</option><option value=\"da\">Dansk</option><option value=\"de\">Deutsch</option><option value=\"et\">eesti</option><option value=\"en-GB\">English&nbsp;(United Kingdom)</option><option value=\"en\">English&nbsp;(United States)</option><option value=\"es\">Español&nbsp;(España)</option><option value=\"es-419\">Español&nbsp;(Latinoamérica)</option><option value=\"eu\">euskara</option><option value=\"fil\">Filipino</option><option value=\"fr-CA\">Français&nbsp;(Canada)</option><option value=\"fr\">Français&nbsp;(France)</option><option value=\"ga\">Gaeilge</option><option value=\"gl\">galego</option><option value=\"hr\">Hrvatski</option><option value=\"id\">Indonesia</option><option value=\"zu\">isiZulu</option><option value=\"is\">íslenska</option><option value=\"it\">Italiano</option><option value=\"sw\">Kiswahili</option><option value=\"lv\">latviešu</option><option value=\"lt\">lietuvių</option><option value=\"hu\">magyar</option><option value=\"ms\">Melayu</option><option value=\"nl\">Nederlands</option><option value=\"no\">norsk</option><option value=\"uz\">o‘zbek</option><option value=\"pl\" selected>polski</option><option value=\"pt-BR\">Português&nbsp;(Brasil)</option><option value=\"pt-PT\">Português&nbsp;(Portugal)</option><option value=\"ro\">română</option><option value=\"sq\">shqip</option><option value=\"sk\">Slovenčina</option><option value=\"sl\">slovenščina</option><option value=\"sr-Latn\">srpski (latinica)</option><option value=\"fi\">Suomi</option><option value=\"sv\">Svenska</option><option value=\"vi\">Tiếng Việt</option><option value=\"tr\">Türkçe</option><option value=\"el\">Ελληνικά</option><option value=\"be\">беларуская</option><option value=\"bg\">български</option><option value=\"ky\">кыргызча</option><option value=\"kk\">қазақ тілі</option><option value=\"mk\">македонски</option><option value=\"mn\">монгол</option><option value=\"ru\">Русский</option><option value=\"sr\">српски</option><option value=\"uk\">Українська</option><option value=\"ka\">ქართული</option><option value=\"hy\">հայերեն</option><option value=\"iw\">עברית</option><option value=\"ur\">اردو</option><option value=\"ar\">العربية</option><option value=\"fa\">فارسی</option><option value=\"am\">አማርኛ</option><option value=\"ne\">नेपाली</option><option value=\"mr\">मराठी</option><option value=\"hi\">हिन्दी</option><option value=\"as\">অসমীয়া</option><option value=\"bn\">বাংলা</option><option value=\"pa\">ਪੰਜਾਬੀ</option><option value=\"gu\">ગુજરાતી</option><option value=\"or\">ଓଡ଼ିଆ</option><option value=\"ta\">தமிழ்</option><option value=\"te\">తెలుగు</option><option value=\"kn\">ಕನ್ನಡ</option><option value=\"ml\">മലയാളം</option><option value=\"si\">සිංහල</option><option value=\"th\">ไทย</option><option value=\"lo\">ລາວ</option><option value=\"my\">မြန်မာ</option><option value=\"km\">ខ្មែរ</option><option value=\"ko\">한국어</option><option value=\"ja\">日本語</option><option value=\"zh-CN\">简体中文</option><option value=\"zh-TW\">繁體中文</option><option value=\"zh-HK\">繁體中文&nbsp;(香港)</option></select><input type=\"hidden\" name=\"oldhl\" value=\"pl\"><input type=\"hidden\" name=\"gl\" value=\"PL\"><input type=\"hidden\" name=\"m\" value=\"0\"><input type=\"hidden\" name=\"pc\" value=\"shp\"><input type=\"hidden\" name=\"continue\" value=\"https://www.google.com/\"><input type=\"hidden\" name=\"src\" value=\"1\"><input type=\"submit\" value=\"Zmień język\"></form><a href=\"https://policies.google.com/privacy?hl=pl&utm_source=ucb\">Polityka prywatności</a> <a href=\"https://policies.google.com/terms?hl=pl&utm_source=ucb\">Warunki korzystania z usługi</a></div></body></html>\n"
     ]
    }
   ],
   "source": [
    "# 101. Write a Python program to access and print a URL's content to the console\n",
    "\n",
    "import requests\n",
    "data = requests.get('https://google.com/')\n",
    "print(data.text)\n"
   ]
  },
  {
   "cell_type": "code",
   "execution_count": 10,
   "metadata": {},
   "outputs": [
    {
     "name": "stdout",
     "output_type": "stream",
     "text": [
      "Practise_files\n"
     ]
    }
   ],
   "source": [
    "# 103. Write a Python program to extract the filename from a given path.\n",
    "\n",
    "import os\n",
    "print(os.path.basename(\"C:/Users/mikol/Desktop/Everyday_practise/Everyday_practise/Python/Practise_files\"))\n"
   ]
  },
  {
   "cell_type": "code",
   "execution_count": 13,
   "metadata": {},
   "outputs": [
    {
     "name": "stdout",
     "output_type": "stream",
     "text": [
      "environ({'ALLUSERSPROFILE': 'C:\\\\ProgramData', 'APPDATA': 'C:\\\\Users\\\\mikol\\\\AppData\\\\Roaming', 'APPLICATION_INSIGHTS_NO_DIAGNOSTIC_CHANNEL': '1', 'CHROME_CRASHPAD_PIPE_NAME': '\\\\\\\\.\\\\pipe\\\\crashpad_30452_SDGNDQQPIHKLKPBL', 'COMMONPROGRAMFILES': 'C:\\\\Program Files\\\\Common Files', 'COMMONPROGRAMFILES(X86)': 'C:\\\\Program Files (x86)\\\\Common Files', 'COMMONPROGRAMW6432': 'C:\\\\Program Files\\\\Common Files', 'COMPUTERNAME': 'DESKTOP-UPA4L3K', 'COMSPEC': 'C:\\\\WINDOWS\\\\system32\\\\cmd.exe', 'DEBUG': 'WARN', 'DRIVERDATA': 'C:\\\\Windows\\\\System32\\\\Drivers\\\\DriverData', 'EIA_KEY': 'oHmroG0Aq5P8F7g1VfZCiJilI8bxKucGyF0K5YdT', 'ELECTRON_RUN_AS_NODE': '1', 'FPS_BROWSER_APP_PROFILE_STRING': 'Internet Explorer', 'FPS_BROWSER_USER_PROFILE_STRING': 'Default', 'HOMEDRIVE': 'C:', 'HOMEPATH': '\\\\Users\\\\mikol', 'JPY_INTERRUPT_EVENT': '1288', 'LOCALAPPDATA': 'C:\\\\Users\\\\mikol\\\\AppData\\\\Local', 'LOGONSERVER': '\\\\\\\\DESKTOP-UPA4L3K', 'NUMBER_OF_PROCESSORS': '12', 'ONEDRIVE': 'C:\\\\Users\\\\mikol\\\\OneDrive', 'ONEDRIVECONSUMER': 'C:\\\\Users\\\\mikol\\\\OneDrive', 'ORIGINAL_XDG_CURRENT_DESKTOP': 'undefined', 'OS': 'Windows_NT', 'PATH': 'C:\\\\Users\\\\mikol\\\\AppData\\\\Local\\\\Programs\\\\Python\\\\Python310;C:\\\\Program Files (x86)\\\\Intel\\\\Intel(R) Management Engine Components\\\\iCLS\\\\;C:\\\\Program Files\\\\Intel\\\\Intel(R) Management Engine Components\\\\iCLS\\\\;C:\\\\Windows\\\\system32;C:\\\\Windows;C:\\\\Windows\\\\System32\\\\Wbem;C:\\\\Windows\\\\System32\\\\WindowsPowerShell\\\\v1.0\\\\;C:\\\\Windows\\\\System32\\\\OpenSSH\\\\;C:\\\\Program Files (x86)\\\\Intel\\\\Intel(R) Management Engine Components\\\\DAL;C:\\\\Program Files\\\\Intel\\\\Intel(R) Management Engine Components\\\\DAL;C:\\\\Program Files (x86)\\\\Intel\\\\Intel(R) Management Engine Components\\\\IPT;C:\\\\Program Files\\\\Intel\\\\Intel(R) Management Engine Components\\\\IPT;C:\\\\WINDOWS\\\\system32;C:\\\\WINDOWS;C:\\\\WINDOWS\\\\System32\\\\Wbem;C:\\\\WINDOWS\\\\System32\\\\WindowsPowerShell\\\\v1.0\\\\;C:\\\\WINDOWS\\\\System32\\\\OpenSSH\\\\;C:\\\\Program Files\\\\Pandoc\\\\;C:\\\\Program Files\\\\Git\\\\cmd;C:\\\\Program Files (x86)\\\\NVIDIA Corporation\\\\PhysX\\\\Common;C:\\\\Program Files\\\\NVIDIA Corporation\\\\NVIDIA NvDLISR;C:\\\\WINDOWS\\\\system32;C:\\\\WINDOWS;C:\\\\WINDOWS\\\\System32\\\\Wbem;C:\\\\WINDOWS\\\\System32\\\\OpenSSH\\\\;C:\\\\WINDOWS\\\\System32\\\\WindowsPowerShell\\\\v1.0\\\\;;C:\\\\Program Files\\\\Docker\\\\Docker\\\\resources\\\\bin;C:\\\\ProgramData\\\\DockerDesktop\\\\version-bin;C:\\\\Program Files\\\\nodejs\\\\;C:\\\\Program Files\\\\Microsoft SQL Server\\\\Client SDK\\\\ODBC\\\\170\\\\Tools\\\\Binn\\\\;C:\\\\Program Files (x86)\\\\Microsoft SQL Server\\\\150\\\\Tools\\\\Binn\\\\;C:\\\\Program Files\\\\Microsoft SQL Server\\\\150\\\\Tools\\\\Binn\\\\;C:\\\\Program Files\\\\Microsoft SQL Server\\\\150\\\\DTS\\\\Binn\\\\;C:\\\\Program Files (x86)\\\\Microsoft SQL Server\\\\150\\\\DTS\\\\Binn\\\\;C:\\\\Program Files\\\\Azure Data Studio\\\\bin;C:\\\\Strawberry\\\\c\\\\bin;C:\\\\Strawberry\\\\perl\\\\site\\\\bin;C:\\\\Strawberry\\\\perl\\\\bin;C:\\\\Program Files\\\\PowerShell\\\\7\\\\;C:\\\\texlive\\\\2021\\\\bin\\\\win32;C:\\\\Users\\\\mikol\\\\AppData\\\\Local\\\\Programs\\\\Python\\\\Python310\\\\Scripts\\\\;C:\\\\Users\\\\mikol\\\\AppData\\\\Local\\\\Programs\\\\Python\\\\Python310\\\\;C:\\\\Users\\\\mikol\\\\AppData\\\\Local\\\\Programs\\\\Python\\\\Python39\\\\Scripts\\\\;C:\\\\Users\\\\mikol\\\\AppData\\\\Local\\\\Programs\\\\Python\\\\Python39\\\\;C:\\\\Users\\\\mikol\\\\AppData\\\\Local\\\\Microsoft\\\\WindowsApps;C:\\\\Program Files\\\\gretl;C:\\\\Users\\\\mikol\\\\AppData\\\\Local\\\\Programs\\\\Microsoft VS Code\\\\bin;C:\\\\Program Files\\\\Graphviz\\\\bin;C:\\\\Users\\\\mikol\\\\AppData\\\\Local\\\\Programs\\\\Julia-1.6.3\\\\bin;C:\\\\Users\\\\mikol\\\\anaconda3\\\\Scripts;C:\\\\Program Files\\\\JetBrains\\\\PyCharm 2021.2\\\\bin;C:\\\\Users\\\\mikol\\\\AppData\\\\Local\\\\GitHubDesktop\\\\bin;C:\\\\Users\\\\mikol\\\\AppData\\\\Roaming\\\\npm;C:\\\\Program Files\\\\Azure Data Studio\\\\bin;C:\\\\Users\\\\mikol\\\\Desktop\\\\LateX\\\\texlive\\\\2021\\\\bin\\\\win32;C:\\\\Users\\\\mikol\\\\Desktop\\\\Latex\\\\miktex\\\\bin\\\\x64\\\\', 'PATHEXT': '.COM;.EXE;.BAT;.CMD;.VBS;.VBE;.JS;.JSE;.WSF;.WSH;.MSC', 'POWERSHELL_DISTRIBUTION_CHANNEL': 'MSI:Windows 10 Home', 'PROCESSOR_ARCHITECTURE': 'AMD64', 'PROCESSOR_IDENTIFIER': 'Intel64 Family 6 Model 158 Stepping 10, GenuineIntel', 'PROCESSOR_LEVEL': '6', 'PROCESSOR_REVISION': '9e0a', 'PROGRAMDATA': 'C:\\\\ProgramData', 'PROGRAMFILES': 'C:\\\\Program Files', 'PROGRAMFILES(X86)': 'C:\\\\Program Files (x86)', 'PROGRAMW6432': 'C:\\\\Program Files', 'PSMODULEPATH': 'C:\\\\Program Files\\\\WindowsPowerShell\\\\Modules;C:\\\\WINDOWS\\\\system32\\\\WindowsPowerShell\\\\v1.0\\\\Modules;C:\\\\Program Files (x86)\\\\Microsoft SQL Server\\\\150\\\\Tools\\\\PowerShell\\\\Modules\\\\', 'PUBLIC': 'C:\\\\Users\\\\Public', 'PYTHONIOENCODING': 'utf-8', 'PYTHONUNBUFFERED': '1', 'SESSIONNAME': 'Console', 'SYSTEMDRIVE': 'C:', 'SYSTEMROOT': 'C:\\\\WINDOWS', 'TEMP': 'C:\\\\Users\\\\mikol\\\\AppData\\\\Local\\\\Temp', 'TMP': 'C:\\\\Users\\\\mikol\\\\AppData\\\\Local\\\\Temp', 'USERDOMAIN': 'DESKTOP-UPA4L3K', 'USERDOMAIN_ROAMINGPROFILE': 'DESKTOP-UPA4L3K', 'USERNAME': 'mikol', 'USERPROFILE': 'C:\\\\Users\\\\mikol', 'VSCODE_AMD_ENTRYPOINT': 'vs/workbench/api/node/extensionHostProcess', 'VSCODE_CODE_CACHE_PATH': 'C:\\\\Users\\\\mikol\\\\AppData\\\\Roaming\\\\Code\\\\CachedData\\\\8dfae7a5cd50421d10cd99cb873990460525a898', 'VSCODE_CWD': 'C:\\\\Users\\\\mikol\\\\AppData\\\\Local\\\\Programs\\\\Microsoft VS Code', 'VSCODE_HANDLES_UNCAUGHT_ERRORS': 'true', 'VSCODE_IPC_HOOK': '\\\\\\\\.\\\\pipe\\\\0453b8ac449545562d35a238bc97788e-1.66.1-main-sock', 'VSCODE_IPC_HOOK_EXTHOST': '\\\\\\\\.\\\\pipe\\\\vscode-ipc-6b5f8707-0b5f-4654-8b27-974342630bf3-sock', 'VSCODE_LOG_NATIVE': 'false', 'VSCODE_LOG_STACK': 'false', 'VSCODE_NLS_CONFIG': '{\"locale\":\"pl\",\"availableLanguages\":{},\"_languagePackSupport\":true}', 'VSCODE_PID': '30452', 'VSCODE_PIPE_LOGGING': 'true', 'VSCODE_VERBOSE_LOGGING': 'true', 'WINDIR': 'C:\\\\WINDOWS', 'PYDEVD_USE_FRAME_EVAL': 'NO', 'TERM': 'xterm-color', 'CLICOLOR': '1', 'PAGER': 'cat', 'GIT_PAGER': 'cat', 'MPLBACKEND': 'module://matplotlib_inline.backend_inline'})\n"
     ]
    }
   ],
   "source": [
    "# 105. Write a Python program to get the users environment.\n",
    "\n",
    "print(os.environ)"
   ]
  },
  {
   "cell_type": "code",
   "execution_count": 16,
   "metadata": {},
   "outputs": [
    {
     "name": "stdout",
     "output_type": "stream",
     "text": [
      "['01_tuples_and_lists.py', '02_dictionary.py', '03_functions.py', '04_if_statement.py', '05_for_loop.py', '06_test.ipynb', '07_next.ipynb', '08_next.ipynb', '09_next.ipynb', '10_next.ipynb', 'jb.ipynb', 'modules.py', 'nest30.py', 'Q&A_Interviews.ipynb']\n"
     ]
    }
   ],
   "source": [
    "# 111. Write a Python program to make file lists from current directory using a wildcard. \n",
    "\n",
    "import glob\n",
    "\n",
    "file_list = glob.glob('*.*')\n",
    "print(file_list)"
   ]
  },
  {
   "cell_type": "code",
   "execution_count": 17,
   "metadata": {},
   "outputs": [
    {
     "name": "stdout",
     "output_type": "stream",
     "text": [
      "Original list elements:\n",
      "['Red', 'Black', 'Green', 'White', 'Orange']\n",
      "After removing the first color:\n",
      "['Black', 'Green', 'White', 'Orange']\n"
     ]
    }
   ],
   "source": [
    "# 112. Write a Python program to remove the first item from a specified list.\n",
    "\n",
    "color = [\"Red\", \"Black\", \"Green\", \"White\", \"Orange\"]\n",
    "print(\"Original list elements:\")\n",
    "print(color)\n",
    "del color[0]\n",
    "print(\"After removing the first color:\")\n",
    "print(color)\n"
   ]
  },
  {
   "cell_type": "code",
   "execution_count": 29,
   "metadata": {},
   "outputs": [
    {
     "name": "stdout",
     "output_type": "stream",
     "text": [
      "<class 'type'>\n",
      "--------------------\n",
      "<__main__.Student object at 0x0000024B229791E0>\n",
      "--------------------\n",
      "<class '__main__.Student'>\n"
     ]
    }
   ],
   "source": [
    "class Student:\n",
    "    pass\n",
    "\n",
    "print(type(Student))\n",
    "\n",
    "print(20*'-')\n",
    "\n",
    "student_mikolaj = Student()\n",
    "print(student_mikolaj)\n",
    "\n",
    "print(20*'-')\n",
    "print(type(student_mikolaj))"
   ]
  },
  {
   "cell_type": "code",
   "execution_count": 21,
   "metadata": {},
   "outputs": [],
   "source": [
    "if __name__ == '__main__':\n",
    "    "
   ]
  },
  {
   "cell_type": "code",
   "execution_count": 39,
   "metadata": {},
   "outputs": [
    {
     "name": "stdout",
     "output_type": "stream",
     "text": [
      "Powstaje nowy obiekt\n"
     ]
    }
   ],
   "source": [
    "class Example:\n",
    "\n",
    "    def __init__(self):\n",
    "        print('Powstaje nowy obiekt')\n",
    "\n",
    "if __name__ == '__main__':\n",
    "    example = Example()"
   ]
  },
  {
   "cell_type": "code",
   "execution_count": 49,
   "metadata": {},
   "outputs": [
    {
     "name": "stdout",
     "output_type": "stream",
     "text": [
      "Jacek\n"
     ]
    }
   ],
   "source": [
    "class Example:\n",
    "\n",
    "    def __init__(self):\n",
    "        self.first_name = 'Mikolaj'\n",
    "        self.last_name = 'Wspanialy'\n",
    "        self.age = 123\n",
    "\n",
    "\n",
    "def run_example():\n",
    "    example = Example()\n",
    "    # print(example.first_name)\n",
    "    # print(example.last_name)\n",
    "    # print(example.age)\n",
    "\n",
    "    # modyfikacja stanu obiektu\n",
    "    example.first_name = 'Jacek'\n",
    "\n",
    "    print(example.first_name)\n",
    "\n",
    "if __name__ == '__main__':\n",
    "    run_example()"
   ]
  },
  {
   "cell_type": "code",
   "execution_count": 46,
   "metadata": {},
   "outputs": [
    {
     "name": "stdout",
     "output_type": "stream",
     "text": [
      "<class '__main__.Example'>\n"
     ]
    }
   ],
   "source": [
    "print(type(example))"
   ]
  },
  {
   "cell_type": "code",
   "execution_count": 70,
   "metadata": {},
   "outputs": [
    {
     "name": "stdout",
     "output_type": "stream",
     "text": [
      "Student1: Jan, promoted: False\n",
      "Student1: Karol, promoted: False\n",
      "Student1: Jan, promoted: True\n"
     ]
    }
   ],
   "source": [
    "class Student1:\n",
    "\n",
    "    def __init__(self, first_name1, last_name1):\n",
    "        self.first_name1 = first_name1\n",
    "        self.last_name1 = last_name1\n",
    "        self.promoted = False\n",
    "\n",
    "def print_student1(student2):\n",
    "    print(f'Student1: {student2.first_name1}, promoted: {student2.promoted}')\n",
    "\n",
    "def promote_student(student2):\n",
    "    student2.promoted = True\n",
    "\n",
    "def run_example():\n",
    "    student2 = Student1(first_name1='Jan', last_name1='Nowak')\n",
    "    print_student1(student2)\n",
    "\n",
    "    other_student = Student1('Karol', 'czarny')\n",
    "    print_student1(other_student)\n",
    "\n",
    "    promote_student(student2)\n",
    "    print_student1(student2)\n",
    "\n",
    "\n",
    "if __name__ == '__main__':\n",
    "    run_example()"
   ]
  },
  {
   "cell_type": "code",
   "execution_count": null,
   "metadata": {},
   "outputs": [],
   "source": [
    "# 113"
   ]
  }
 ],
 "metadata": {
  "interpreter": {
   "hash": "7b0470897870f91c1d27568bf8346e85da46866cae942d918bd7f2b2e94e9a5a"
  },
  "kernelspec": {
   "display_name": "Python 3.10.0 64-bit",
   "language": "python",
   "name": "python3"
  },
  "language_info": {
   "codemirror_mode": {
    "name": "ipython",
    "version": 3
   },
   "file_extension": ".py",
   "mimetype": "text/x-python",
   "name": "python",
   "nbconvert_exporter": "python",
   "pygments_lexer": "ipython3",
   "version": "3.10.0"
  },
  "orig_nbformat": 4
 },
 "nbformat": 4,
 "nbformat_minor": 2
}
