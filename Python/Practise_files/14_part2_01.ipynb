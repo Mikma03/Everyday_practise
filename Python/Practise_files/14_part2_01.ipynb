{
 "cells": [
  {
   "cell_type": "code",
   "execution_count": 2,
   "metadata": {},
   "outputs": [
    {
     "name": "stdout",
     "output_type": "stream",
     "text": [
      "True\n",
      "False\n"
     ]
    }
   ],
   "source": [
    "# 1. Write a Python function that takes a sequence of numbers and determines whether all the numbers are different from each other\n",
    "\n",
    "def test_distinc(entry_data):\n",
    "    if len(entry_data) == len(set(entry_data)):\n",
    "        return True\n",
    "    else:\n",
    "        return False\n",
    "\n",
    "print(test_distinc([1,5,7,9]))\n",
    "print(test_distinc([2,4,5,5,7,9]))"
   ]
  },
  {
   "cell_type": "code",
   "execution_count": 4,
   "metadata": {},
   "outputs": [
    {
     "name": "stdout",
     "output_type": "stream",
     "text": [
      "ceuai\n"
     ]
    }
   ],
   "source": [
    "# 2. Write a Python program to create all possible strings by using 'a', 'e', 'i', 'o', 'u'. Use the characters exactly once.\n",
    "\n",
    "import random\n",
    "\n",
    "char_list = ['a', 'e', 'c', 'u', 'i']\n",
    "\n",
    "random.shuffle(char_list)\n",
    "print(''.join(char_list))"
   ]
  },
  {
   "cell_type": "code",
   "execution_count": 10,
   "metadata": {},
   "outputs": [
    {
     "name": "stdout",
     "output_type": "stream",
     "text": [
      "30\n",
      "10\n",
      "20\n",
      "40\n",
      "50\n",
      "60\n",
      "70\n",
      "80\n",
      "90\n"
     ]
    },
    {
     "ename": "IndexError",
     "evalue": "pop from empty list",
     "output_type": "error",
     "traceback": [
      "\u001b[1;31m---------------------------------------------------------------------------\u001b[0m",
      "\u001b[1;31mIndexError\u001b[0m                                Traceback (most recent call last)",
      "\u001b[1;32m~\\AppData\\Local\\Temp/ipykernel_18164/1311515902.py\u001b[0m in \u001b[0;36m<module>\u001b[1;34m\u001b[0m\n\u001b[0;32m     11\u001b[0m \u001b[1;33m\u001b[0m\u001b[0m\n\u001b[0;32m     12\u001b[0m \u001b[0mnums1\u001b[0m \u001b[1;33m=\u001b[0m \u001b[1;33m[\u001b[0m\u001b[1;36m10\u001b[0m\u001b[1;33m,\u001b[0m\u001b[1;36m20\u001b[0m\u001b[1;33m,\u001b[0m\u001b[1;36m30\u001b[0m\u001b[1;33m,\u001b[0m\u001b[1;36m40\u001b[0m\u001b[1;33m,\u001b[0m\u001b[1;36m50\u001b[0m\u001b[1;33m,\u001b[0m\u001b[1;36m60\u001b[0m\u001b[1;33m,\u001b[0m\u001b[1;36m70\u001b[0m\u001b[1;33m,\u001b[0m\u001b[1;36m80\u001b[0m\u001b[1;33m,\u001b[0m\u001b[1;36m90\u001b[0m\u001b[1;33m]\u001b[0m\u001b[1;33m\u001b[0m\u001b[1;33m\u001b[0m\u001b[0m\n\u001b[1;32m---> 13\u001b[1;33m \u001b[0mremove_number\u001b[0m\u001b[1;33m(\u001b[0m\u001b[0mnums1\u001b[0m\u001b[1;33m)\u001b[0m\u001b[1;33m\u001b[0m\u001b[1;33m\u001b[0m\u001b[0m\n\u001b[0m",
      "\u001b[1;32m~\\AppData\\Local\\Temp/ipykernel_18164/1311515902.py\u001b[0m in \u001b[0;36mremove_number\u001b[1;34m(int_list)\u001b[0m\n\u001b[0;32m      7\u001b[0m     \u001b[1;32mwhile\u001b[0m \u001b[0mlen_list\u001b[0m \u001b[1;33m>\u001b[0m \u001b[1;36m0\u001b[0m\u001b[1;33m:\u001b[0m\u001b[1;33m\u001b[0m\u001b[1;33m\u001b[0m\u001b[0m\n\u001b[0;32m      8\u001b[0m         \u001b[0midx\u001b[0m \u001b[1;33m=\u001b[0m \u001b[1;33m(\u001b[0m\u001b[0mposition\u001b[0m\u001b[1;33m+\u001b[0m\u001b[0midx\u001b[0m\u001b[1;33m)\u001b[0m\u001b[1;33m%\u001b[0m\u001b[0mlen_list\u001b[0m\u001b[1;33m\u001b[0m\u001b[1;33m\u001b[0m\u001b[0m\n\u001b[1;32m----> 9\u001b[1;33m         \u001b[0mprint\u001b[0m\u001b[1;33m(\u001b[0m\u001b[0mint_list\u001b[0m\u001b[1;33m.\u001b[0m\u001b[0mpop\u001b[0m\u001b[1;33m(\u001b[0m\u001b[0midx\u001b[0m\u001b[1;33m)\u001b[0m\u001b[1;33m)\u001b[0m\u001b[1;33m\u001b[0m\u001b[1;33m\u001b[0m\u001b[0m\n\u001b[0m\u001b[0;32m     10\u001b[0m         \u001b[0mlen_list\u001b[0m \u001b[1;33m=\u001b[0m \u001b[1;36m1\u001b[0m\u001b[1;33m\u001b[0m\u001b[1;33m\u001b[0m\u001b[0m\n\u001b[0;32m     11\u001b[0m \u001b[1;33m\u001b[0m\u001b[0m\n",
      "\u001b[1;31mIndexError\u001b[0m: pop from empty list"
     ]
    }
   ],
   "source": [
    "# 3. Write a Python program to remove and print every third number from a list of numbers until the list becomes empty.\n",
    "\n",
    "def remove_number(int_list):\n",
    "    position = 3 - 1\n",
    "    idx = 0\n",
    "    len_list = len(int_list)\n",
    "    while len_list > 0:\n",
    "        idx = (position+idx)%len_list\n",
    "        print(int_list.pop(idx))\n",
    "        len_list = 1\n",
    "\n",
    "nums1 = [10,20,30,40,50,60,70,80,90]\n",
    "remove_number(nums1)"
   ]
  },
  {
   "cell_type": "code",
   "execution_count": 11,
   "metadata": {},
   "outputs": [
    {
     "name": "stdout",
     "output_type": "stream",
     "text": [
      "[(-6, 2, 4)]\n"
     ]
    }
   ],
   "source": [
    "# 4. Write a Python program to find unique triplets whose three elements gives the sum of zero from an array of n integers\n",
    "\n",
    "def three_sum(nums):\n",
    "    result = []\n",
    "    nums.sort()\n",
    "    for i in range(len(nums)-2):\n",
    "        if i > 0 and nums[i] == nums[i - 1]:\n",
    "            continue\n",
    "        l, r = i + 1, len(nums) - 1\n",
    "        while l < r:\n",
    "            s = nums[i] + nums[l] + nums[r]\n",
    "            if s > 0:\n",
    "                r -= 1\n",
    "            elif s < 0:\n",
    "                l += 1\n",
    "            else:\n",
    "                result.append((nums[i], nums[l], nums[r]))\n",
    "                while l < r and nums[l] == nums[l+1]:\n",
    "                    l += 1\n",
    "                    while l < r and nums[r] == nums[r - 1]:\n",
    "                        r -= 1\n",
    "                        l += 1\n",
    "                        r -= 1\n",
    "                    return result\n",
    "\n",
    "\n",
    "x = [1, -6, 4, 2, -1, 2, 0, -2, 0 ]\n",
    "print(three_sum(x))"
   ]
  },
  {
   "cell_type": "code",
   "execution_count": 18,
   "metadata": {},
   "outputs": [
    {
     "name": "stdout",
     "output_type": "stream",
     "text": [
      "199\n"
     ]
    }
   ],
   "source": [
    "# 5. Write a Python program to create the combinations of 3 digit combo.\n",
    "\n",
    "numbers = []\n",
    "\n",
    "for positions in range(200):\n",
    "    positions = str(positions).zfill(3)\n",
    "\n",
    "print(positions)\n",
    "numbers.append(positions)"
   ]
  },
  {
   "cell_type": "code",
   "execution_count": 19,
   "metadata": {},
   "outputs": [
    {
     "name": "stdout",
     "output_type": "stream",
     "text": [
      "String:\n",
      " United States Declaration of Independence\n",
      "From Wikipedia, the free encyclopedia\n",
      "The United States Declaration of Independence is the statement\n",
      "adopted by the Second Continental Congress meeting at the Pennsylvania State\n",
      "House (Independence Hall) in Philadelphia on July 4, 1776, which announced\n",
      "that the thirteen American colonies, then at war with the Kingdom of Great\n",
      "Britain, regarded themselves as thirteen independent sovereign states, no longer\n",
      "under British rule. These states would found a new nation – the United States of\n",
      "America. John Adams was a leader in pushing for independence, which was passed\n",
      "on July 2 with no opposing vote cast. A committee of five had already drafted the\n",
      "formal declaration, to be ready when Congress voted on independence. \n",
      "\n",
      "List:\n",
      " ['United', 'States', 'Declaration', 'of', 'Independence', 'From', 'Wikipedia,', 'the', 'free', 'encyclopedia', 'The', 'United', 'States', 'Declaration', 'of', 'Independence', 'is', 'the', 'statement', 'adopted', 'by', 'the', 'Second', 'Continental', 'Congress', 'meeting', 'at', 'the', 'Pennsylvania', 'State', 'House', '(Independence', 'Hall)', 'in', 'Philadelphia', 'on', 'July', '4,', '1776,', 'which', 'announced', 'that', 'the', 'thirteen', 'American', 'colonies,', 'then', 'at', 'war', 'with', 'the', 'Kingdom', 'of', 'Great', 'Britain,', 'regarded', 'themselves', 'as', 'thirteen', 'independent', 'sovereign', 'states,', 'no', 'longer', 'under', 'British', 'rule.', 'These', 'states', 'would', 'found', 'a', 'new', 'nation', '–', 'the', 'United', 'States', 'of', 'America.', 'John', 'Adams', 'was', 'a', 'leader', 'in', 'pushing', 'for', 'independence,', 'which', 'was', 'passed', 'on', 'July', '2', 'with', 'no', 'opposing', 'vote', 'cast.', 'A', 'committee', 'of', 'five', 'had', 'already', 'drafted', 'the', 'formal', 'declaration,', 'to', 'be', 'ready', 'when', 'Congress', 'voted', 'on', 'independence.'] \n",
      "\n",
      "Pairs (Words and Frequencies:\n",
      " [('United', 3), ('States', 3), ('Declaration', 2), ('of', 5), ('Independence', 2), ('From', 1), ('Wikipedia,', 1), ('the', 8), ('free', 1), ('encyclopedia', 1), ('The', 1), ('United', 3), ('States', 3), ('Declaration', 2), ('of', 5), ('Independence', 2), ('is', 1), ('the', 8), ('statement', 1), ('adopted', 1), ('by', 1), ('the', 8), ('Second', 1), ('Continental', 1), ('Congress', 2), ('meeting', 1), ('at', 2), ('the', 8), ('Pennsylvania', 1), ('State', 1), ('House', 1), ('(Independence', 1), ('Hall)', 1), ('in', 2), ('Philadelphia', 1), ('on', 3), ('July', 2), ('4,', 1), ('1776,', 1), ('which', 2), ('announced', 1), ('that', 1), ('the', 8), ('thirteen', 2), ('American', 1), ('colonies,', 1), ('then', 1), ('at', 2), ('war', 1), ('with', 2), ('the', 8), ('Kingdom', 1), ('of', 5), ('Great', 1), ('Britain,', 1), ('regarded', 1), ('themselves', 1), ('as', 1), ('thirteen', 2), ('independent', 1), ('sovereign', 1), ('states,', 1), ('no', 2), ('longer', 1), ('under', 1), ('British', 1), ('rule.', 1), ('These', 1), ('states', 1), ('would', 1), ('found', 1), ('a', 2), ('new', 1), ('nation', 1), ('–', 1), ('the', 8), ('United', 3), ('States', 3), ('of', 5), ('America.', 1), ('John', 1), ('Adams', 1), ('was', 2), ('a', 2), ('leader', 1), ('in', 2), ('pushing', 1), ('for', 1), ('independence,', 1), ('which', 2), ('was', 2), ('passed', 1), ('on', 3), ('July', 2), ('2', 1), ('with', 2), ('no', 2), ('opposing', 1), ('vote', 1), ('cast.', 1), ('A', 1), ('committee', 1), ('of', 5), ('five', 1), ('had', 1), ('already', 1), ('drafted', 1), ('the', 8), ('formal', 1), ('declaration,', 1), ('to', 1), ('be', 1), ('ready', 1), ('when', 1), ('Congress', 2), ('voted', 1), ('on', 3), ('independence.', 1)]\n"
     ]
    }
   ],
   "source": [
    "# 6. Write a Python program to print a long text, convert the string to a list and print all the words and their frequencies.\n",
    "\n",
    "string_words = '''United States Declaration of Independence\n",
    "From Wikipedia, the free encyclopedia\n",
    "The United States Declaration of Independence is the statement\n",
    "adopted by the Second Continental Congress meeting at the Pennsylvania State\n",
    "House (Independence Hall) in Philadelphia on July 4, 1776, which announced\n",
    "that the thirteen American colonies, then at war with the Kingdom of Great\n",
    "Britain, regarded themselves as thirteen independent sovereign states, no longer\n",
    "under British rule. These states would found a new nation – the United States of\n",
    "America. John Adams was a leader in pushing for independence, which was passed\n",
    "on July 2 with no opposing vote cast. A committee of five had already drafted the\n",
    "formal declaration, to be ready when Congress voted on independence.'''\n",
    "\n",
    "word_list = string_words.split()\n",
    "\n",
    "word_freq = [word_list.count(n) for n in word_list]\n",
    "\n",
    "print(\"String:\\n {} \\n\".format(string_words))\n",
    "print(\"List:\\n {} \\n\".format(str(word_list)))\n",
    "print(\"Pairs (Words and Frequencies:\\n {}\".format(str(list(zip(word_list, word_freq)))))"
   ]
  },
  {
   "cell_type": "code",
   "execution_count": null,
   "metadata": {},
   "outputs": [],
   "source": [
    "# 7. Write a Python program to count the number of each character of a given text of a text file.\n",
    "\n",
    "import collections\n",
    "import pprint\n",
    "file_input = input('File Name: ')\n",
    "with open(file_input, 'r') as info:\n",
    "  count = collections.Counter(info.read().upper())\n",
    "  value = pprint.pformat(count)\n",
    "print(value)\n"
   ]
  },
  {
   "cell_type": "code",
   "execution_count": 20,
   "metadata": {},
   "outputs": [
    {
     "ename": "FeatureNotFound",
     "evalue": "Couldn't find a tree builder with the features you requested: xml. Do you need to install a parser library?",
     "output_type": "error",
     "traceback": [
      "\u001b[1;31m---------------------------------------------------------------------------\u001b[0m",
      "\u001b[1;31mFeatureNotFound\u001b[0m                           Traceback (most recent call last)",
      "\u001b[1;32m~\\AppData\\Local\\Temp/ipykernel_18164/2519892844.py\u001b[0m in \u001b[0;36m<module>\u001b[1;34m\u001b[0m\n\u001b[0;32m      9\u001b[0m \u001b[0mClient\u001b[0m\u001b[1;33m.\u001b[0m\u001b[0mclose\u001b[0m\u001b[1;33m(\u001b[0m\u001b[1;33m)\u001b[0m\u001b[1;33m\u001b[0m\u001b[1;33m\u001b[0m\u001b[0m\n\u001b[0;32m     10\u001b[0m \u001b[1;33m\u001b[0m\u001b[0m\n\u001b[1;32m---> 11\u001b[1;33m \u001b[0msoup_page\u001b[0m\u001b[1;33m=\u001b[0m\u001b[0msoup\u001b[0m\u001b[1;33m(\u001b[0m\u001b[0mxml_page\u001b[0m\u001b[1;33m,\u001b[0m\u001b[1;34m\"xml\"\u001b[0m\u001b[1;33m)\u001b[0m\u001b[1;33m\u001b[0m\u001b[1;33m\u001b[0m\u001b[0m\n\u001b[0m\u001b[0;32m     12\u001b[0m \u001b[0mnews_list\u001b[0m\u001b[1;33m=\u001b[0m\u001b[0msoup_page\u001b[0m\u001b[1;33m.\u001b[0m\u001b[0mfindAll\u001b[0m\u001b[1;33m(\u001b[0m\u001b[1;34m\"item\"\u001b[0m\u001b[1;33m)\u001b[0m\u001b[1;33m\u001b[0m\u001b[1;33m\u001b[0m\u001b[0m\n\u001b[0;32m     13\u001b[0m \u001b[1;31m# Print news title, url and publish date\u001b[0m\u001b[1;33m\u001b[0m\u001b[1;33m\u001b[0m\u001b[0m\n",
      "\u001b[1;32m~\\AppData\\Local\\Programs\\Python\\Python310\\lib\\site-packages\\bs4\\__init__.py\u001b[0m in \u001b[0;36m__init__\u001b[1;34m(self, markup, features, builder, parse_only, from_encoding, exclude_encodings, element_classes, **kwargs)\u001b[0m\n\u001b[0;32m    243\u001b[0m             \u001b[0mbuilder_class\u001b[0m \u001b[1;33m=\u001b[0m \u001b[0mbuilder_registry\u001b[0m\u001b[1;33m.\u001b[0m\u001b[0mlookup\u001b[0m\u001b[1;33m(\u001b[0m\u001b[1;33m*\u001b[0m\u001b[0mfeatures\u001b[0m\u001b[1;33m)\u001b[0m\u001b[1;33m\u001b[0m\u001b[1;33m\u001b[0m\u001b[0m\n\u001b[0;32m    244\u001b[0m             \u001b[1;32mif\u001b[0m \u001b[0mbuilder_class\u001b[0m \u001b[1;32mis\u001b[0m \u001b[1;32mNone\u001b[0m\u001b[1;33m:\u001b[0m\u001b[1;33m\u001b[0m\u001b[1;33m\u001b[0m\u001b[0m\n\u001b[1;32m--> 245\u001b[1;33m                 raise FeatureNotFound(\n\u001b[0m\u001b[0;32m    246\u001b[0m                     \u001b[1;34m\"Couldn't find a tree builder with the features you \"\u001b[0m\u001b[1;33m\u001b[0m\u001b[1;33m\u001b[0m\u001b[0m\n\u001b[0;32m    247\u001b[0m                     \u001b[1;34m\"requested: %s. Do you need to install a parser library?\"\u001b[0m\u001b[1;33m\u001b[0m\u001b[1;33m\u001b[0m\u001b[0m\n",
      "\u001b[1;31mFeatureNotFound\u001b[0m: Couldn't find a tree builder with the features you requested: xml. Do you need to install a parser library?"
     ]
    }
   ],
   "source": [
    "# 8. Write a Python program to get the top stories from Google news.\n",
    "import bs4\n",
    "from bs4 import BeautifulSoup as soup\n",
    "from urllib.request import urlopen\n",
    "\n",
    "news_url=\"https://news.google.com/news/rss\"\n",
    "Client=urlopen(news_url)\n",
    "xml_page=Client.read()\n",
    "Client.close()\n",
    "\n",
    "soup_page=soup(xml_page,\"xml\")\n",
    "news_list=soup_page.findAll(\"item\")\n",
    "# Print news title, url and publish date\n",
    "for news in news_list:\n",
    "  print(news.title.text)\n",
    "  print(news.link.text)\n",
    "  print(news.pubDate.text)\n",
    "  print(\"-\"*60)\n",
    "\n"
   ]
  },
  {
   "cell_type": "code",
   "execution_count": 21,
   "metadata": {},
   "outputs": [
    {
     "name": "stdout",
     "output_type": "stream",
     "text": [
      "aiohttp==3.8.1\n",
      "aiosignal==1.2.0\n",
      "argcomplete==2.0.0\n",
      "astroid==2.9.0\n",
      "asttokens==2.0.4\n",
      "async-timeout==3.0.1\n",
      "asynctest==0.13.0\n",
      "atomicwrites==1.4.0\n",
      "attrs==21.2.0\n",
      "backcall==0.2.0\n",
      "backports.entry-points-selectable==1.1.1\n",
      "base58==2.1.0\n",
      "beautifulsoup4==4.10.0\n",
      "bitarray==1.2.2\n",
      "black==21.12b0\n",
      "cached-property==1.5.2\n",
      "certifi==2021.5.30\n",
      "cffi==1.15.0\n",
      "chardet==4.0.0\n",
      "charset-normalizer==2.0.6\n",
      "click==8.0.1\n",
      "colorama==0.4.4\n",
      "cycler==0.11.0\n",
      "cytoolz==0.11.2\n",
      "dataclassy==0.10.4\n",
      "debugpy==1.5.1\n",
      "decorator==5.1.0\n",
      "distlib==0.3.4\n",
      "eip712==0.1.0\n",
      "entrypoints==0.3\n",
      "et-xmlfile==1.1.0\n",
      "eth-abi==2.1.1\n",
      "eth-account==0.5.6\n",
      "eth-brownie==1.17.2\n",
      "eth-event==1.2.3\n",
      "eth-hash==0.3.2\n",
      "eth-keyfile==0.5.1\n",
      "eth-keys==0.3.3\n",
      "eth-rlp==0.2.1\n",
      "eth-typing==2.2.2\n",
      "eth-utils==1.10.0\n",
      "execnet==1.9.0\n",
      "filelock==3.4.0\n",
      "fonttools==4.28.2\n",
      "frozenlist==1.2.0\n",
      "geographiclib==1.52\n",
      "geopy==2.2.0\n",
      "gevent==21.12.0\n",
      "greenlet==1.1.2\n",
      "hexbytes==0.2.2\n",
      "hypothesis==6.21.6\n",
      "idna==3.2\n",
      "importlib-metadata==4.8.2\n",
      "inflection==0.5.0\n",
      "iniconfig==1.1.1\n",
      "invoke==1.6.0\n",
      "ipfshttpclient==0.8.0a2\n",
      "ipykernel==6.5.1\n",
      "ipython==7.30.0\n",
      "isort==5.10.1\n",
      "jedi==0.18.1\n",
      "jinja2==3.0.3\n",
      "joblib==1.1.0\n",
      "jsonschema==3.2.0\n",
      "jupyter-client==7.1.0\n",
      "jupyter-core==4.9.1\n",
      "kiwisolver==1.3.2\n",
      "lazy-object-proxy==1.6.0\n",
      "line-profiler==3.3.1\n",
      "lru-dict==1.1.7\n",
      "markupsafe==2.0.1\n",
      "matplotlib-inline==0.1.3\n",
      "matplotlib==3.5.0\n",
      "mccabe==0.6.1\n",
      "memory-profiler==0.60.0\n",
      "multiaddr==0.0.9\n",
      "multidict==5.1.0\n",
      "mypy-extensions==0.4.3\n",
      "mysql-connector-python==8.0.27\n",
      "mythx-models==1.9.1\n",
      "nest-asyncio==1.5.1\n",
      "netaddr==0.8.0\n",
      "numexpr==2.8.1\n",
      "numpy==1.21.4\n",
      "openpyxl==3.0.9\n",
      "packaging==21.0\n",
      "pandas==1.3.5\n",
      "parsimonious==0.8.1\n",
      "parso==0.8.2\n",
      "pathspec==0.9.0\n",
      "patsy==0.5.2\n",
      "pickleshare==0.7.5\n",
      "pillow==8.4.0\n",
      "pip==22.0.3\n",
      "pipenv==2021.11.23\n",
      "pipx==1.0.0\n",
      "platformdirs==2.3.0\n",
      "pluggy==1.0.0\n",
      "praw==7.5.0\n",
      "prawcore==2.3.0\n",
      "prompt-toolkit==3.0.20\n",
      "protobuf==3.18.0\n",
      "psutil==5.8.0\n",
      "py-solc-ast==1.2.9\n",
      "py-solc-x==1.1.1\n",
      "py-spy==0.3.11\n",
      "py==1.10.0\n",
      "pyarrow==6.0.1\n",
      "pycparser==2.21\n",
      "pycryptodome==3.10.1\n",
      "pygments-lexer-solidity==0.7.0\n",
      "pygments==2.10.0\n",
      "pyjwt==1.7.1\n",
      "pylint==2.12.1\n",
      "pymssql==2.2.3\n",
      "pyparsing==2.4.7\n",
      "pyreadr==0.4.4\n",
      "pyreadstat==1.1.4\n",
      "pyrsistent==0.18.0\n",
      "pytest-forked==1.3.0\n",
      "pytest-xdist==1.34.0\n",
      "pytest==6.2.5\n",
      "python-dateutil==2.8.1\n",
      "python-dotenv==0.16.0\n",
      "pythx==1.6.1\n",
      "pytz-deprecation-shim==0.1.0.post0\n",
      "pytz==2021.3\n",
      "pywin32==302\n",
      "pyyaml==5.4.1\n",
      "pyzmq==22.3.0\n",
      "regex==2021.8.28\n",
      "requests==2.26.0\n",
      "rlp==2.0.1\n",
      "rpy2==3.4.5\n",
      "scikit-learn==1.0.2\n",
      "scipy==1.7.3\n",
      "seaborn==0.11.2\n",
      "semantic-version==2.8.5\n",
      "setuptools-scm==6.3.2\n",
      "setuptools==60.8.1\n",
      "six==1.16.0\n",
      "sklearn==0.0\n",
      "snakeviz==2.1.1\n",
      "sortedcontainers==2.4.0\n",
      "soupsieve==2.3.1\n",
      "statsmodels==0.13.1\n",
      "threadpoolctl==3.0.0\n",
      "toml==0.10.2\n",
      "tomli==1.2.1\n",
      "toolz==0.11.1\n",
      "tornado==6.1\n",
      "tqdm==4.62.3\n",
      "traitlets==5.1.1\n",
      "typed-ast==1.5.1\n",
      "typing-extensions==3.10.0.2\n",
      "tzdata==2021.5\n",
      "tzlocal==4.1\n",
      "update-checker==0.18.0\n",
      "urllib3==1.26.6\n",
      "userpath==1.8.0\n",
      "varint==1.0.2\n",
      "virtualenv-clone==0.5.7\n",
      "virtualenv==20.10.0\n",
      "virtualenvwrapper-win==1.2.7\n",
      "vvm==0.1.0\n",
      "vyper==0.2.16\n",
      "wcwidth==0.2.5\n",
      "web3==5.25.0\n",
      "websocket-client==1.2.3\n",
      "websockets==9.1\n",
      "wheel==0.37.0\n",
      "wrapt==1.12.1\n",
      "yarl==1.6.3\n",
      "zipp==3.6.0\n",
      "zope.event==4.5.0\n",
      "zope.interface==5.4.0\n"
     ]
    }
   ],
   "source": [
    "# 9. Write a Python program to get a list of locally installed Python modules.\n",
    "\n",
    "import pkg_resources\n",
    "installed_packages = pkg_resources.working_set\n",
    "installed_packages_list = sorted([\"%s==%s\" % (i.key, i.version)\n",
    "     for i in installed_packages])\n",
    "for m in installed_packages_list:\n",
    "    print(m)\n"
   ]
  },
  {
   "cell_type": "code",
   "execution_count": 22,
   "metadata": {},
   "outputs": [
    {
     "name": "stdout",
     "output_type": "stream",
     "text": [
      "architecture: ('64bit', 'WindowsPE')\n",
      "mac_ver: ('', ('', '', ''), '')\n",
      "machine: AMD64\n",
      "node: DESKTOP-UPA4L3K\n",
      "platform: Windows-10-10.0.22000-SP0\n",
      "processor: Intel64 Family 6 Model 158 Stepping 10, GenuineIntel\n",
      "python_build: ('tags/v3.10.0:b494f59', 'Oct  4 2021 19:00:18')\n",
      "python_compiler: MSC v.1929 64 bit (AMD64)\n",
      "python_version: 3.10.0\n",
      "release: 10\n",
      "system: Windows\n",
      "uname: uname_result(system='Windows', node='DESKTOP-UPA4L3K', release='10', version='10.0.22000', machine='AMD64')\n",
      "version: 10.0.22000\n"
     ]
    }
   ],
   "source": [
    "# 10. Write a Python program to display some information about the OS where the script is running. \n",
    "\n",
    "import platform as pl\n",
    "\n",
    "os_profile = [\n",
    "        'architecture',\n",
    "        'linux_distribution',\n",
    "        'mac_ver',\n",
    "        'machine',\n",
    "        'node',\n",
    "        'platform',\n",
    "        'processor',\n",
    "        'python_build',\n",
    "        'python_compiler',\n",
    "        'python_version',\n",
    "        'release',\n",
    "        'system',\n",
    "        'uname',\n",
    "        'version',\n",
    "    ]\n",
    "for key in os_profile:\n",
    "  if hasattr(pl, key):\n",
    "    print(key +  \": \" + str(getattr(pl, key)()))\n"
   ]
  },
  {
   "cell_type": "code",
   "execution_count": 23,
   "metadata": {},
   "outputs": [
    {
     "name": "stdout",
     "output_type": "stream",
     "text": [
      "{(10, 20, 40)}\n",
      "{(10, 30, 30), (10, 20, 40)}\n",
      "{(10, 30, 30), (10, 20, 40), (10, 40, 20)}\n",
      "{(10, 30, 30), (20, 10, 40), (10, 20, 40), (10, 40, 20)}\n",
      "{(10, 20, 40), (20, 20, 30), (20, 10, 40), (10, 40, 20), (10, 30, 30)}\n",
      "{(10, 20, 40), (20, 20, 30), (20, 10, 40), (10, 40, 20), (20, 30, 20), (10, 30, 30)}\n",
      "{(10, 20, 40), (20, 40, 10), (20, 20, 30), (20, 10, 40), (10, 40, 20), (20, 30, 20), (10, 30, 30)}\n"
     ]
    }
   ],
   "source": [
    "# 11. Write a Python program to check the sum of three elements (each from an array) from three arrays is equal to a target value. Print all those three-element combinations.\n",
    "\n",
    "import itertools\n",
    "from functools import partial\n",
    "\n",
    "\n",
    "X = [10, 20, 20, 20]\n",
    "Y = [10, 20, 30, 40]\n",
    "Z = [10, 30, 40, 20]\n",
    "T = 70\n",
    "\n",
    "def check_sum_array(N, *nums):\n",
    "  if sum(x for x in nums) == N:\n",
    "    return (True, nums)\n",
    "  else:\n",
    "      return (False, nums)\n",
    "\n",
    "pro = itertools.product(X,Y,Z)\n",
    "func = partial(check_sum_array, T)\n",
    "sums = list(itertools.starmap(func, pro))\n",
    "\n",
    "result = set()\n",
    "for s in sums:\n",
    "    if s[0] == True and s[1] not in result:\n",
    "      result.add(s[1])\n",
    "      print(result)\n"
   ]
  },
  {
   "cell_type": "code",
   "execution_count": 2,
   "metadata": {},
   "outputs": [],
   "source": [
    "# 12. Write a Python program to create all possible permutations from a given collection of distinct numbers.\n",
    "\n",
    "def permute(num):\n",
    "    result = [[]]\n",
    "    for n in num:\n",
    "        new_perms = []\n",
    "        for perms in result:\n",
    "            for i in range(len(perms) + 1):\n",
    "                new_perms.append(perms[:i] + [n] + perms[i:])\n",
    "                result = new_perms\n",
    "    return result\n",
    "\n",
    "my_numbers = [0,1,2]"
   ]
  },
  {
   "cell_type": "code",
   "execution_count": 3,
   "metadata": {},
   "outputs": [
    {
     "name": "stdout",
     "output_type": "stream",
     "text": [
      "[0, 1, 2]\n"
     ]
    }
   ],
   "source": [
    "print(my_numbers)\n",
    "# print(permute(my_numbers))"
   ]
  },
  {
   "cell_type": "code",
   "execution_count": 4,
   "metadata": {},
   "outputs": [
    {
     "name": "stdout",
     "output_type": "stream",
     "text": [
      "[[2, 1, 0], [1, 2, 0], [1, 0, 2], [2, 0, 1], [0, 2, 1], [0, 1, 2]]\n"
     ]
    }
   ],
   "source": [
    "print(permute(my_numbers))"
   ]
  },
  {
   "cell_type": "code",
   "execution_count": 1,
   "metadata": {},
   "outputs": [
    {
     "name": "stdout",
     "output_type": "stream",
     "text": [
      "['jt', 'ju', 'jv', 'kt', 'ku', 'kv', 'lt', 'lu', 'lv']\n",
      "['dz', 'ez', 'fz']\n"
     ]
    }
   ],
   "source": [
    "# 13. Write a Python program to get all possible two digit letter combinations from a digit (1 to 9) string.\n",
    "\n",
    "\n",
    "def letter_combinations(digits):\n",
    "    if digits == \"\":\n",
    "        return []\n",
    "    string_maps = {\n",
    "        \"1\": \"abc\",\n",
    "        \"2\": \"def\",\n",
    "        \"3\": \"ghi\",\n",
    "        \"4\": \"jkl\",\n",
    "        \"5\": \"mno\",\n",
    "        \"6\": \"pqrs\",\n",
    "        \"7\": \"tuv\",\n",
    "        \"8\": \"wxy\",\n",
    "        \"9\": \"z\"\n",
    "    }\n",
    "    result = [\"\"]\n",
    "    for num in digits:\n",
    "        temp = []\n",
    "        for an in result:\n",
    "            for char in string_maps[num]:\n",
    "                temp.append(an + char)\n",
    "        result = temp\n",
    "    return result\n",
    "\n",
    "digit_string = \"47\"\n",
    "print(letter_combinations(digit_string))\n",
    "digit_string = \"29\"\n",
    "print(letter_combinations(digit_string))\n",
    "\n"
   ]
  },
  {
   "cell_type": "code",
   "execution_count": 2,
   "metadata": {},
   "outputs": [
    {
     "name": "stdout",
     "output_type": "stream",
     "text": [
      "True\n",
      "True\n",
      "False\n",
      "False\n",
      "True\n"
     ]
    }
   ],
   "source": [
    "# 15. Write a Python program to check the priority of the four operators (+, -, *, /).\n",
    "\n",
    "from collections import deque\n",
    "import re\n",
    "\n",
    "__operators__ = \"+-/*\"\n",
    "__parenthesis__ = \"()\"\n",
    "__priority__ = {\n",
    "    '+': 0,\n",
    "    '-': 0,\n",
    "    '*': 1,\n",
    "    '/': 1,\n",
    "}\n",
    "\n",
    "def test_higher_priority(operator1, operator2):\n",
    "    return __priority__[operator1] >= __priority__[operator2]\n",
    "\n",
    "print(test_higher_priority('*','-'))\n",
    "print(test_higher_priority('+','-'))\n",
    "print(test_higher_priority('+','*'))\n",
    "print(test_higher_priority('+','/'))\n",
    "print(test_higher_priority('*','/'))"
   ]
  },
  {
   "cell_type": "code",
   "execution_count": 3,
   "metadata": {},
   "outputs": [
    {
     "name": "stdout",
     "output_type": "stream",
     "text": [
      "n = 2: \n",
      " ['88', '11', '96', '69']\n",
      "n = 3: \n",
      " ['818', '111', '916', '619', '808', '101', '906', '609', '888', '181', '986', '689']\n",
      "n = 4: \n",
      " ['8008', '1001', '9006', '6009', '8888', '1881', '9886', '6889', '8118', '1111', '9116', '6119', '8968', '1961', '9966', '6969', '8698', '1691', '9696', '6699']\n"
     ]
    }
   ],
   "source": [
    "# 17. Write a Python program to get all strobogrammatic numbers that are of length n.\n",
    "\n",
    "\n",
    "def gen_strobogrammatic(n):\n",
    "    \"\"\"\n",
    "    :type n: int\n",
    "    :rtype: List[str]\n",
    "    \"\"\"\n",
    "    result = helper(n, n)\n",
    "    return result\n",
    "\n",
    "\n",
    "def helper(n, length):\n",
    "    if n == 0:\n",
    "        return [\"\"]\n",
    "    if n == 1:\n",
    "        return [\"1\", \"0\", \"8\"]\n",
    "    middles = helper(n-2, length)\n",
    "    result = []\n",
    "    for middle in middles:\n",
    "        if n != length:\n",
    "            result.append(\"0\" + middle + \"0\")\n",
    "        result.append(\"8\" + middle + \"8\")\n",
    "        result.append(\"1\" + middle + \"1\")\n",
    "        result.append(\"9\" + middle + \"6\")\n",
    "        result.append(\"6\" + middle + \"9\")\n",
    "    return result\n",
    "\n",
    "print(\"n = 2: \\n\",gen_strobogrammatic(2))\n",
    "print(\"n = 3: \\n\",gen_strobogrammatic(3))\n",
    "print(\"n = 4: \\n\",gen_strobogrammatic(4))\n"
   ]
  },
  {
   "cell_type": "code",
   "execution_count": 4,
   "metadata": {},
   "outputs": [
    {
     "name": "stdout",
     "output_type": "stream",
     "text": [
      "5\n",
      "6\n"
     ]
    }
   ],
   "source": [
    "# 19. Write a Python program to find the value of n where n degrees of number 2 are written sequentially in a line without spaces.\n",
    "\n",
    "def ndegrees(num):\n",
    "  ans = True\n",
    "  n, tempn, i = 2, 2, 2\n",
    "  while ans:\n",
    "    if str(tempn) in num:\n",
    "      i += 1\n",
    "      tempn = pow(n, i)\n",
    "    else:\n",
    "      ans = False\n",
    "  return i-1;\n",
    "print(ndegrees(\"2481632\"))\n",
    "print(ndegrees(\"248163264\"))\n"
   ]
  },
  {
   "cell_type": "code",
   "execution_count": 5,
   "metadata": {},
   "outputs": [
    {
     "name": "stdout",
     "output_type": "stream",
     "text": [
      "4\n",
      "7\n",
      "13\n"
     ]
    }
   ],
   "source": [
    "# 22. Write a Python program to create a sequence where the first four members of the sequence are equal to one, and each successive term of the sequence is equal to the sum of the four previous ones. Find the Nth member of the sequence.\n",
    "\n",
    "def new_seq(n):\n",
    "    if n==1 or n==2 or n==3 or n==4:\n",
    "        return 1\n",
    "    return new_seq(n-1) + new_seq(n-2) + new_seq(n-3) + new_seq(n-4)\n",
    "print(new_seq(5))\n",
    "print(new_seq(6))\n",
    "print(new_seq(7))\n",
    "\n"
   ]
  },
  {
   "cell_type": "code",
   "execution_count": 6,
   "metadata": {},
   "outputs": [
    {
     "name": "stdout",
     "output_type": "stream",
     "text": [
      "4\n",
      "6\n",
      "3\n",
      "4\n",
      "2\n"
     ]
    }
   ],
   "source": [
    "# 24. Write a Python program to find the number of divisors of a given integer is even or odd.\n",
    "\n",
    "def divisor(n):\n",
    "  x = len([i for i in range(1,n+1) if not n % i])\n",
    "  return x\n",
    "print(divisor(15))\n",
    "print(divisor(12))\n",
    "print(divisor(9))\n",
    "print(divisor(6))\n",
    "print(divisor(3))\n",
    "\n"
   ]
  },
  {
   "cell_type": "code",
   "execution_count": null,
   "metadata": {},
   "outputs": [],
   "source": []
  }
 ],
 "metadata": {
  "interpreter": {
   "hash": "7b0470897870f91c1d27568bf8346e85da46866cae942d918bd7f2b2e94e9a5a"
  },
  "kernelspec": {
   "display_name": "Python 3.10.0 64-bit",
   "language": "python",
   "name": "python3"
  },
  "language_info": {
   "codemirror_mode": {
    "name": "ipython",
    "version": 3
   },
   "file_extension": ".py",
   "mimetype": "text/x-python",
   "name": "python",
   "nbconvert_exporter": "python",
   "pygments_lexer": "ipython3",
   "version": "3.10.0"
  },
  "orig_nbformat": 4
 },
 "nbformat": 4,
 "nbformat_minor": 2
}
